{
 "cells": [
  {
   "cell_type": "markdown",
   "metadata": {},
   "source": [
    "# ¿Cómo elegir un juego?\n",
    "\n",
    "Trabajas para la tienda online Ice que vende videojuegos por todo el mundo. Las reseñas de usuarios y expertos, los géneros, las plataformas (por ejemplo, Xbox o PlayStation) y los datos históricos sobre las ventas de juegos están disponibles en fuentes abiertas. \n",
    "\n",
    "Tienes que identificar patrones que determinen si un juego tiene éxito o no. Esto te permitirá detectar proyectos prometedores y planificar campañas publicitarias.\n"
   ]
  },
  {
   "cell_type": "markdown",
   "metadata": {},
   "source": [
    "***DICCIONARIO DE DATOS*** \n",
    "\n",
    "`Name` : Nombre\n",
    "\n",
    "`Platform` : Plataforma\n",
    "\n",
    "`Year_of_Release` : Año de lanzamiento\n",
    "\n",
    "`Genre` : Género\n",
    "\n",
    "`NA_sales` : ventas en Norteamérica en millones de dólares estadounidenses\n",
    "\n",
    "`EU_sales` : ventas en Europa en millones de dólares estadounidenses\n",
    "\n",
    "`JP_sales` : ventas en Japón en millones de dólares estadounidenses \n",
    "\n",
    "`Other_sales` : ventas en otros países en millones de dólares estadounidenses \n",
    "\n",
    "`Critic_Score` : máximo de 100\n",
    "\n",
    "`User_Score` : máximo de 10\n",
    "\n",
    "`Clasificación` : ESRB"
   ]
  },
  {
   "cell_type": "markdown",
   "metadata": {},
   "source": [
    "## Inicialización"
   ]
  },
  {
   "cell_type": "code",
   "execution_count": 1,
   "metadata": {},
   "outputs": [],
   "source": [
    "# Cargar todas las librerías\n",
    "import pandas as pd\n",
    "import numpy as np\n",
    "import seaborn as sns\n",
    "from scipy import stats as st\n",
    "from matplotlib import pyplot as plt"
   ]
  },
  {
   "cell_type": "markdown",
   "metadata": {},
   "source": [
    "## Cargar datos"
   ]
  },
  {
   "cell_type": "code",
   "execution_count": 2,
   "metadata": {},
   "outputs": [],
   "source": [
    "# Carga los archivos de datos en diferentes DataFrames\n",
    "try:\n",
    "    games = pd.read_csv('/datasets/games.csv')\n",
    "except:\n",
    "    games = pd.read_csv(r'..\\datasets\\games.csv')"
   ]
  },
  {
   "cell_type": "markdown",
   "metadata": {},
   "source": [
    "# Preparar los datos\n"
   ]
  },
  {
   "cell_type": "code",
   "execution_count": 3,
   "metadata": {
    "scrolled": true
   },
   "outputs": [
    {
     "data": {
      "text/html": [
       "<div>\n",
       "<style scoped>\n",
       "    .dataframe tbody tr th:only-of-type {\n",
       "        vertical-align: middle;\n",
       "    }\n",
       "\n",
       "    .dataframe tbody tr th {\n",
       "        vertical-align: top;\n",
       "    }\n",
       "\n",
       "    .dataframe thead th {\n",
       "        text-align: right;\n",
       "    }\n",
       "</style>\n",
       "<table border=\"1\" class=\"dataframe\">\n",
       "  <thead>\n",
       "    <tr style=\"text-align: right;\">\n",
       "      <th></th>\n",
       "      <th>Name</th>\n",
       "      <th>Platform</th>\n",
       "      <th>Year_of_Release</th>\n",
       "      <th>Genre</th>\n",
       "      <th>NA_sales</th>\n",
       "      <th>EU_sales</th>\n",
       "      <th>JP_sales</th>\n",
       "      <th>Other_sales</th>\n",
       "      <th>Critic_Score</th>\n",
       "      <th>User_Score</th>\n",
       "      <th>Rating</th>\n",
       "    </tr>\n",
       "  </thead>\n",
       "  <tbody>\n",
       "    <tr>\n",
       "      <th>0</th>\n",
       "      <td>Wii Sports</td>\n",
       "      <td>Wii</td>\n",
       "      <td>2006.0</td>\n",
       "      <td>Sports</td>\n",
       "      <td>41.36</td>\n",
       "      <td>28.96</td>\n",
       "      <td>3.77</td>\n",
       "      <td>8.45</td>\n",
       "      <td>76.0</td>\n",
       "      <td>8</td>\n",
       "      <td>E</td>\n",
       "    </tr>\n",
       "    <tr>\n",
       "      <th>1</th>\n",
       "      <td>Super Mario Bros.</td>\n",
       "      <td>NES</td>\n",
       "      <td>1985.0</td>\n",
       "      <td>Platform</td>\n",
       "      <td>29.08</td>\n",
       "      <td>3.58</td>\n",
       "      <td>6.81</td>\n",
       "      <td>0.77</td>\n",
       "      <td>NaN</td>\n",
       "      <td>NaN</td>\n",
       "      <td>NaN</td>\n",
       "    </tr>\n",
       "    <tr>\n",
       "      <th>2</th>\n",
       "      <td>Mario Kart Wii</td>\n",
       "      <td>Wii</td>\n",
       "      <td>2008.0</td>\n",
       "      <td>Racing</td>\n",
       "      <td>15.68</td>\n",
       "      <td>12.76</td>\n",
       "      <td>3.79</td>\n",
       "      <td>3.29</td>\n",
       "      <td>82.0</td>\n",
       "      <td>8.3</td>\n",
       "      <td>E</td>\n",
       "    </tr>\n",
       "    <tr>\n",
       "      <th>3</th>\n",
       "      <td>Wii Sports Resort</td>\n",
       "      <td>Wii</td>\n",
       "      <td>2009.0</td>\n",
       "      <td>Sports</td>\n",
       "      <td>15.61</td>\n",
       "      <td>10.93</td>\n",
       "      <td>3.28</td>\n",
       "      <td>2.95</td>\n",
       "      <td>80.0</td>\n",
       "      <td>8</td>\n",
       "      <td>E</td>\n",
       "    </tr>\n",
       "    <tr>\n",
       "      <th>4</th>\n",
       "      <td>Pokemon Red/Pokemon Blue</td>\n",
       "      <td>GB</td>\n",
       "      <td>1996.0</td>\n",
       "      <td>Role-Playing</td>\n",
       "      <td>11.27</td>\n",
       "      <td>8.89</td>\n",
       "      <td>10.22</td>\n",
       "      <td>1.00</td>\n",
       "      <td>NaN</td>\n",
       "      <td>NaN</td>\n",
       "      <td>NaN</td>\n",
       "    </tr>\n",
       "  </tbody>\n",
       "</table>\n",
       "</div>"
      ],
      "text/plain": [
       "                       Name Platform  Year_of_Release         Genre  NA_sales  \\\n",
       "0                Wii Sports      Wii           2006.0        Sports     41.36   \n",
       "1         Super Mario Bros.      NES           1985.0      Platform     29.08   \n",
       "2            Mario Kart Wii      Wii           2008.0        Racing     15.68   \n",
       "3         Wii Sports Resort      Wii           2009.0        Sports     15.61   \n",
       "4  Pokemon Red/Pokemon Blue       GB           1996.0  Role-Playing     11.27   \n",
       "\n",
       "   EU_sales  JP_sales  Other_sales  Critic_Score User_Score Rating  \n",
       "0     28.96      3.77         8.45          76.0          8      E  \n",
       "1      3.58      6.81         0.77           NaN        NaN    NaN  \n",
       "2     12.76      3.79         3.29          82.0        8.3      E  \n",
       "3     10.93      3.28         2.95          80.0          8      E  \n",
       "4      8.89     10.22         1.00           NaN        NaN    NaN  "
      ]
     },
     "execution_count": 3,
     "metadata": {},
     "output_type": "execute_result"
    }
   ],
   "source": [
    "#Se muestra las primeras 5 filas\n",
    "\n",
    "games.head()"
   ]
  },
  {
   "cell_type": "code",
   "execution_count": 4,
   "metadata": {
    "scrolled": true
   },
   "outputs": [
    {
     "name": "stdout",
     "output_type": "stream",
     "text": [
      "<class 'pandas.core.frame.DataFrame'>\n",
      "RangeIndex: 16715 entries, 0 to 16714\n",
      "Data columns (total 11 columns):\n",
      " #   Column           Non-Null Count  Dtype  \n",
      "---  ------           --------------  -----  \n",
      " 0   Name             16713 non-null  object \n",
      " 1   Platform         16715 non-null  object \n",
      " 2   Year_of_Release  16446 non-null  float64\n",
      " 3   Genre            16713 non-null  object \n",
      " 4   NA_sales         16715 non-null  float64\n",
      " 5   EU_sales         16715 non-null  float64\n",
      " 6   JP_sales         16715 non-null  float64\n",
      " 7   Other_sales      16715 non-null  float64\n",
      " 8   Critic_Score     8137 non-null   float64\n",
      " 9   User_Score       10014 non-null  object \n",
      " 10  Rating           9949 non-null   object \n",
      "dtypes: float64(6), object(5)\n",
      "memory usage: 1.4+ MB\n"
     ]
    }
   ],
   "source": [
    "#Informacion sobre las columnas y tipo de datos\n",
    "\n",
    "games.info()"
   ]
  },
  {
   "cell_type": "markdown",
   "metadata": {},
   "source": [
    "## Enriquecer datos"
   ]
  },
  {
   "cell_type": "code",
   "execution_count": 5,
   "metadata": {},
   "outputs": [
    {
     "data": {
      "text/plain": [
       "0"
      ]
     },
     "execution_count": 5,
     "metadata": {},
     "output_type": "execute_result"
    }
   ],
   "source": [
    "#Se verifica si hay duplicados\n",
    "\n",
    "games.duplicated().sum()"
   ]
  },
  {
   "cell_type": "code",
   "execution_count": 6,
   "metadata": {},
   "outputs": [],
   "source": [
    "#Volvemos a minusculas los nombres de las columnas\n",
    "\n",
    "games.columns=games.columns.str.lower()"
   ]
  },
  {
   "cell_type": "code",
   "execution_count": 7,
   "metadata": {},
   "outputs": [
    {
     "data": {
      "text/html": [
       "<div>\n",
       "<style scoped>\n",
       "    .dataframe tbody tr th:only-of-type {\n",
       "        vertical-align: middle;\n",
       "    }\n",
       "\n",
       "    .dataframe tbody tr th {\n",
       "        vertical-align: top;\n",
       "    }\n",
       "\n",
       "    .dataframe thead th {\n",
       "        text-align: right;\n",
       "    }\n",
       "</style>\n",
       "<table border=\"1\" class=\"dataframe\">\n",
       "  <thead>\n",
       "    <tr style=\"text-align: right;\">\n",
       "      <th></th>\n",
       "      <th>name</th>\n",
       "      <th>platform</th>\n",
       "      <th>year_of_release</th>\n",
       "      <th>genre</th>\n",
       "      <th>na_sales</th>\n",
       "      <th>eu_sales</th>\n",
       "      <th>jp_sales</th>\n",
       "      <th>other_sales</th>\n",
       "      <th>critic_score</th>\n",
       "      <th>user_score</th>\n",
       "      <th>rating</th>\n",
       "    </tr>\n",
       "  </thead>\n",
       "  <tbody>\n",
       "    <tr>\n",
       "      <th>0</th>\n",
       "      <td>Wii Sports</td>\n",
       "      <td>Wii</td>\n",
       "      <td>2006.0</td>\n",
       "      <td>Sports</td>\n",
       "      <td>41.36</td>\n",
       "      <td>28.96</td>\n",
       "      <td>3.77</td>\n",
       "      <td>8.45</td>\n",
       "      <td>76.0</td>\n",
       "      <td>8</td>\n",
       "      <td>E</td>\n",
       "    </tr>\n",
       "    <tr>\n",
       "      <th>1</th>\n",
       "      <td>Super Mario Bros.</td>\n",
       "      <td>NES</td>\n",
       "      <td>1985.0</td>\n",
       "      <td>Platform</td>\n",
       "      <td>29.08</td>\n",
       "      <td>3.58</td>\n",
       "      <td>6.81</td>\n",
       "      <td>0.77</td>\n",
       "      <td>NaN</td>\n",
       "      <td>NaN</td>\n",
       "      <td>NaN</td>\n",
       "    </tr>\n",
       "    <tr>\n",
       "      <th>2</th>\n",
       "      <td>Mario Kart Wii</td>\n",
       "      <td>Wii</td>\n",
       "      <td>2008.0</td>\n",
       "      <td>Racing</td>\n",
       "      <td>15.68</td>\n",
       "      <td>12.76</td>\n",
       "      <td>3.79</td>\n",
       "      <td>3.29</td>\n",
       "      <td>82.0</td>\n",
       "      <td>8.3</td>\n",
       "      <td>E</td>\n",
       "    </tr>\n",
       "    <tr>\n",
       "      <th>3</th>\n",
       "      <td>Wii Sports Resort</td>\n",
       "      <td>Wii</td>\n",
       "      <td>2009.0</td>\n",
       "      <td>Sports</td>\n",
       "      <td>15.61</td>\n",
       "      <td>10.93</td>\n",
       "      <td>3.28</td>\n",
       "      <td>2.95</td>\n",
       "      <td>80.0</td>\n",
       "      <td>8</td>\n",
       "      <td>E</td>\n",
       "    </tr>\n",
       "    <tr>\n",
       "      <th>4</th>\n",
       "      <td>Pokemon Red/Pokemon Blue</td>\n",
       "      <td>GB</td>\n",
       "      <td>1996.0</td>\n",
       "      <td>Role-Playing</td>\n",
       "      <td>11.27</td>\n",
       "      <td>8.89</td>\n",
       "      <td>10.22</td>\n",
       "      <td>1.00</td>\n",
       "      <td>NaN</td>\n",
       "      <td>NaN</td>\n",
       "      <td>NaN</td>\n",
       "    </tr>\n",
       "  </tbody>\n",
       "</table>\n",
       "</div>"
      ],
      "text/plain": [
       "                       name platform  year_of_release         genre  na_sales  \\\n",
       "0                Wii Sports      Wii           2006.0        Sports     41.36   \n",
       "1         Super Mario Bros.      NES           1985.0      Platform     29.08   \n",
       "2            Mario Kart Wii      Wii           2008.0        Racing     15.68   \n",
       "3         Wii Sports Resort      Wii           2009.0        Sports     15.61   \n",
       "4  Pokemon Red/Pokemon Blue       GB           1996.0  Role-Playing     11.27   \n",
       "\n",
       "   eu_sales  jp_sales  other_sales  critic_score user_score rating  \n",
       "0     28.96      3.77         8.45          76.0          8      E  \n",
       "1      3.58      6.81         0.77           NaN        NaN    NaN  \n",
       "2     12.76      3.79         3.29          82.0        8.3      E  \n",
       "3     10.93      3.28         2.95          80.0          8      E  \n",
       "4      8.89     10.22         1.00           NaN        NaN    NaN  "
      ]
     },
     "execution_count": 7,
     "metadata": {},
     "output_type": "execute_result"
    }
   ],
   "source": [
    "games.head()"
   ]
  },
  {
   "cell_type": "markdown",
   "metadata": {},
   "source": [
    "## Tratamiento de valores ausentes"
   ]
  },
  {
   "cell_type": "markdown",
   "metadata": {},
   "source": [
    "### Columna 'year_of_release'"
   ]
  },
  {
   "cell_type": "code",
   "execution_count": 8,
   "metadata": {},
   "outputs": [
    {
     "data": {
      "text/plain": [
       "array([2006., 1985., 2008., 2009., 1996., 1989., 1984., 2005., 1999.,\n",
       "       2007., 2010., 2013., 2004., 1990., 1988., 2002., 2001., 2011.,\n",
       "       1998., 2015., 2012., 2014., 1992., 1997., 1993., 1994., 1982.,\n",
       "       2016., 2003., 1986., 2000.,   nan, 1995., 1991., 1981., 1987.,\n",
       "       1980., 1983.])"
      ]
     },
     "execution_count": 8,
     "metadata": {},
     "output_type": "execute_result"
    }
   ],
   "source": [
    "#En la columna 'year_of_release' se extrae los valores únicos\n",
    "\n",
    "games['year_of_release'].unique()"
   ]
  },
  {
   "cell_type": "markdown",
   "metadata": {},
   "source": [
    "Se mantendrá los valores en *float* en la columna **year_of_release** debido a que su cambio a *int* no afecta en el proceso futuro de análisis."
   ]
  },
  {
   "cell_type": "markdown",
   "metadata": {},
   "source": [
    "### Columna 'user_score'"
   ]
  },
  {
   "cell_type": "code",
   "execution_count": 9,
   "metadata": {},
   "outputs": [
    {
     "data": {
      "text/plain": [
       "array(['8', nan, '8.3', '8.5', '6.6', '8.4', '8.6', '7.7', '6.3', '7.4',\n",
       "       '8.2', '9', '7.9', '8.1', '8.7', '7.1', '3.4', '5.3', '4.8', '3.2',\n",
       "       '8.9', '6.4', '7.8', '7.5', '2.6', '7.2', '9.2', '7', '7.3', '4.3',\n",
       "       '7.6', '5.7', '5', '9.1', '6.5', 'tbd', '8.8', '6.9', '9.4', '6.8',\n",
       "       '6.1', '6.7', '5.4', '4', '4.9', '4.5', '9.3', '6.2', '4.2', '6',\n",
       "       '3.7', '4.1', '5.8', '5.6', '5.5', '4.4', '4.6', '5.9', '3.9',\n",
       "       '3.1', '2.9', '5.2', '3.3', '4.7', '5.1', '3.5', '2.5', '1.9', '3',\n",
       "       '2.7', '2.2', '2', '9.5', '2.1', '3.6', '2.8', '1.8', '3.8', '0',\n",
       "       '1.6', '9.6', '2.4', '1.7', '1.1', '0.3', '1.5', '0.7', '1.2',\n",
       "       '2.3', '0.5', '1.3', '0.2', '0.6', '1.4', '0.9', '1', '9.7'],\n",
       "      dtype=object)"
      ]
     },
     "execution_count": 9,
     "metadata": {},
     "output_type": "execute_result"
    }
   ],
   "source": [
    "#En la columna 'user_score' se extrae los valores únicos\n",
    "\n",
    "games['user_score'].unique()"
   ]
  },
  {
   "cell_type": "code",
   "execution_count": 10,
   "metadata": {},
   "outputs": [],
   "source": [
    "#Se convierte el 'tbd' por valores ausentes\n",
    "\n",
    "games['user_score'] = games['user_score'].replace(['tbd'], [np.nan])"
   ]
  },
  {
   "cell_type": "code",
   "execution_count": 11,
   "metadata": {},
   "outputs": [
    {
     "name": "stdout",
     "output_type": "stream",
     "text": [
      "<class 'pandas.core.frame.DataFrame'>\n",
      "RangeIndex: 16715 entries, 0 to 16714\n",
      "Data columns (total 11 columns):\n",
      " #   Column           Non-Null Count  Dtype  \n",
      "---  ------           --------------  -----  \n",
      " 0   name             16713 non-null  object \n",
      " 1   platform         16715 non-null  object \n",
      " 2   year_of_release  16446 non-null  float64\n",
      " 3   genre            16713 non-null  object \n",
      " 4   na_sales         16715 non-null  float64\n",
      " 5   eu_sales         16715 non-null  float64\n",
      " 6   jp_sales         16715 non-null  float64\n",
      " 7   other_sales      16715 non-null  float64\n",
      " 8   critic_score     8137 non-null   float64\n",
      " 9   user_score       7590 non-null   float64\n",
      " 10  rating           9949 non-null   object \n",
      "dtypes: float64(7), object(4)\n",
      "memory usage: 1.4+ MB\n"
     ]
    }
   ],
   "source": [
    "#Se pasa a tipo float la columna 'user_score'\n",
    "\n",
    "games['user_score'] = pd.to_numeric(games['user_score'], errors = 'coerce')\n",
    "games.info()"
   ]
  },
  {
   "cell_type": "markdown",
   "metadata": {},
   "source": [
    "Se decidió reemplazar los valores *tbd* de la columna **user_score** por valores Nan, esto debido a que es posible que aún no haya sido evaluado el videojuego al momento de extraer los datos. Y no podemos reemplazar por la media o mediana en su mayoria la opinión de un usuario al ser esta también subjetiva."
   ]
  },
  {
   "cell_type": "markdown",
   "metadata": {},
   "source": [
    "### Columna 'rating'"
   ]
  },
  {
   "cell_type": "code",
   "execution_count": 12,
   "metadata": {},
   "outputs": [
    {
     "data": {
      "text/plain": [
       "array(['E', nan, 'M', 'T', 'E10+', 'K-A', 'AO', 'EC', 'RP'], dtype=object)"
      ]
     },
     "execution_count": 12,
     "metadata": {},
     "output_type": "execute_result"
    }
   ],
   "source": [
    "#En la columna 'rating' se extrae los valores únicos\n",
    "\n",
    "games['rating'].unique()"
   ]
  },
  {
   "cell_type": "markdown",
   "metadata": {},
   "source": [
    "Muestra las clasificaciones para las edades ideales en las que se deberia jugar el videojuego, lo datos ausentes pueden implicar que aun se encontraba en estudios o en proceso de clasificación cuando se extrajeron los datos."
   ]
  },
  {
   "cell_type": "markdown",
   "metadata": {},
   "source": [
    "# Analizar los datos"
   ]
  },
  {
   "cell_type": "code",
   "execution_count": 13,
   "metadata": {},
   "outputs": [
    {
     "data": {
      "text/html": [
       "<div>\n",
       "<style scoped>\n",
       "    .dataframe tbody tr th:only-of-type {\n",
       "        vertical-align: middle;\n",
       "    }\n",
       "\n",
       "    .dataframe tbody tr th {\n",
       "        vertical-align: top;\n",
       "    }\n",
       "\n",
       "    .dataframe thead th {\n",
       "        text-align: right;\n",
       "    }\n",
       "</style>\n",
       "<table border=\"1\" class=\"dataframe\">\n",
       "  <thead>\n",
       "    <tr style=\"text-align: right;\">\n",
       "      <th></th>\n",
       "      <th>name</th>\n",
       "      <th>platform</th>\n",
       "      <th>year_of_release</th>\n",
       "      <th>genre</th>\n",
       "      <th>na_sales</th>\n",
       "      <th>eu_sales</th>\n",
       "      <th>jp_sales</th>\n",
       "      <th>other_sales</th>\n",
       "      <th>critic_score</th>\n",
       "      <th>user_score</th>\n",
       "      <th>rating</th>\n",
       "      <th>total_sales</th>\n",
       "    </tr>\n",
       "  </thead>\n",
       "  <tbody>\n",
       "    <tr>\n",
       "      <th>0</th>\n",
       "      <td>Wii Sports</td>\n",
       "      <td>Wii</td>\n",
       "      <td>2006.0</td>\n",
       "      <td>Sports</td>\n",
       "      <td>41.36</td>\n",
       "      <td>28.96</td>\n",
       "      <td>3.77</td>\n",
       "      <td>8.45</td>\n",
       "      <td>76.0</td>\n",
       "      <td>8.0</td>\n",
       "      <td>E</td>\n",
       "      <td>82.54</td>\n",
       "    </tr>\n",
       "    <tr>\n",
       "      <th>1</th>\n",
       "      <td>Super Mario Bros.</td>\n",
       "      <td>NES</td>\n",
       "      <td>1985.0</td>\n",
       "      <td>Platform</td>\n",
       "      <td>29.08</td>\n",
       "      <td>3.58</td>\n",
       "      <td>6.81</td>\n",
       "      <td>0.77</td>\n",
       "      <td>NaN</td>\n",
       "      <td>NaN</td>\n",
       "      <td>NaN</td>\n",
       "      <td>40.24</td>\n",
       "    </tr>\n",
       "    <tr>\n",
       "      <th>2</th>\n",
       "      <td>Mario Kart Wii</td>\n",
       "      <td>Wii</td>\n",
       "      <td>2008.0</td>\n",
       "      <td>Racing</td>\n",
       "      <td>15.68</td>\n",
       "      <td>12.76</td>\n",
       "      <td>3.79</td>\n",
       "      <td>3.29</td>\n",
       "      <td>82.0</td>\n",
       "      <td>8.3</td>\n",
       "      <td>E</td>\n",
       "      <td>35.52</td>\n",
       "    </tr>\n",
       "    <tr>\n",
       "      <th>3</th>\n",
       "      <td>Wii Sports Resort</td>\n",
       "      <td>Wii</td>\n",
       "      <td>2009.0</td>\n",
       "      <td>Sports</td>\n",
       "      <td>15.61</td>\n",
       "      <td>10.93</td>\n",
       "      <td>3.28</td>\n",
       "      <td>2.95</td>\n",
       "      <td>80.0</td>\n",
       "      <td>8.0</td>\n",
       "      <td>E</td>\n",
       "      <td>32.77</td>\n",
       "    </tr>\n",
       "    <tr>\n",
       "      <th>4</th>\n",
       "      <td>Pokemon Red/Pokemon Blue</td>\n",
       "      <td>GB</td>\n",
       "      <td>1996.0</td>\n",
       "      <td>Role-Playing</td>\n",
       "      <td>11.27</td>\n",
       "      <td>8.89</td>\n",
       "      <td>10.22</td>\n",
       "      <td>1.00</td>\n",
       "      <td>NaN</td>\n",
       "      <td>NaN</td>\n",
       "      <td>NaN</td>\n",
       "      <td>31.38</td>\n",
       "    </tr>\n",
       "  </tbody>\n",
       "</table>\n",
       "</div>"
      ],
      "text/plain": [
       "                       name platform  year_of_release         genre  na_sales  \\\n",
       "0                Wii Sports      Wii           2006.0        Sports     41.36   \n",
       "1         Super Mario Bros.      NES           1985.0      Platform     29.08   \n",
       "2            Mario Kart Wii      Wii           2008.0        Racing     15.68   \n",
       "3         Wii Sports Resort      Wii           2009.0        Sports     15.61   \n",
       "4  Pokemon Red/Pokemon Blue       GB           1996.0  Role-Playing     11.27   \n",
       "\n",
       "   eu_sales  jp_sales  other_sales  critic_score  user_score rating  \\\n",
       "0     28.96      3.77         8.45          76.0         8.0      E   \n",
       "1      3.58      6.81         0.77           NaN         NaN    NaN   \n",
       "2     12.76      3.79         3.29          82.0         8.3      E   \n",
       "3     10.93      3.28         2.95          80.0         8.0      E   \n",
       "4      8.89     10.22         1.00           NaN         NaN    NaN   \n",
       "\n",
       "   total_sales  \n",
       "0        82.54  \n",
       "1        40.24  \n",
       "2        35.52  \n",
       "3        32.77  \n",
       "4        31.38  "
      ]
     },
     "execution_count": 13,
     "metadata": {},
     "output_type": "execute_result"
    }
   ],
   "source": [
    "#Se crea columna con la suma total de ventas de videojuego \n",
    "\n",
    "games['total_sales'] = games['na_sales'] + games['eu_sales'] + games['jp_sales'] + games['other_sales']\n",
    "games.head()"
   ]
  },
  {
   "cell_type": "markdown",
   "metadata": {},
   "source": [
    "## Cantidad de juegos por año"
   ]
  },
  {
   "cell_type": "code",
   "execution_count": 14,
   "metadata": {},
   "outputs": [
    {
     "data": {
      "text/plain": [
       "year_of_release\n",
       "1980.0       9\n",
       "1981.0      46\n",
       "1982.0      36\n",
       "1983.0      17\n",
       "1984.0      14\n",
       "1985.0      14\n",
       "1986.0      21\n",
       "1987.0      16\n",
       "1988.0      15\n",
       "1989.0      17\n",
       "1990.0      16\n",
       "1991.0      41\n",
       "1992.0      43\n",
       "1993.0      62\n",
       "1994.0     121\n",
       "1995.0     219\n",
       "1996.0     263\n",
       "1997.0     289\n",
       "1998.0     379\n",
       "1999.0     338\n",
       "2000.0     350\n",
       "2001.0     482\n",
       "2002.0     829\n",
       "2003.0     775\n",
       "2004.0     762\n",
       "2005.0     939\n",
       "2006.0    1006\n",
       "2007.0    1197\n",
       "2008.0    1427\n",
       "2009.0    1426\n",
       "2010.0    1255\n",
       "2011.0    1136\n",
       "2012.0     653\n",
       "2013.0     544\n",
       "2014.0     581\n",
       "2015.0     606\n",
       "2016.0     502\n",
       "dtype: int64"
      ]
     },
     "execution_count": 14,
     "metadata": {},
     "output_type": "execute_result"
    }
   ],
   "source": [
    "#Cantidad de juegos lanzados por año\n",
    "\n",
    "games.groupby('year_of_release').size()"
   ]
  },
  {
   "cell_type": "code",
   "execution_count": 15,
   "metadata": {},
   "outputs": [
    {
     "data": {
      "image/png": "[encoded data removed]",
      "text/plain": [
       "<Figure size 576x432 with 1 Axes>"
      ]
     },
     "metadata": {
      "needs_background": "light"
     },
     "output_type": "display_data"
    }
   ],
   "source": [
    "#grafico de barras de la cantidad de juegos lanzados en diferentes años\n",
    "\n",
    "games.groupby('year_of_release').size().plot(kind= 'bar', figsize = [8, 6])\n",
    "plt.show()"
   ]
  },
  {
   "cell_type": "markdown",
   "metadata": {},
   "source": [
    "Los datos de los periodos son significativos debido a que estos puede ayudarnos a pronosticar para el siguiente año."
   ]
  },
  {
   "cell_type": "markdown",
   "metadata": {},
   "source": [
    "## Plataformas con mayores ventas"
   ]
  },
  {
   "cell_type": "code",
   "execution_count": 16,
   "metadata": {},
   "outputs": [
    {
     "data": {
      "text/html": [
       "<div>\n",
       "<style scoped>\n",
       "    .dataframe tbody tr th:only-of-type {\n",
       "        vertical-align: middle;\n",
       "    }\n",
       "\n",
       "    .dataframe tbody tr th {\n",
       "        vertical-align: top;\n",
       "    }\n",
       "\n",
       "    .dataframe thead th {\n",
       "        text-align: right;\n",
       "    }\n",
       "</style>\n",
       "<table border=\"1\" class=\"dataframe\">\n",
       "  <thead>\n",
       "    <tr style=\"text-align: right;\">\n",
       "      <th></th>\n",
       "      <th>name</th>\n",
       "      <th>platform</th>\n",
       "      <th>year_of_release</th>\n",
       "      <th>genre</th>\n",
       "      <th>na_sales</th>\n",
       "      <th>eu_sales</th>\n",
       "      <th>jp_sales</th>\n",
       "      <th>other_sales</th>\n",
       "      <th>critic_score</th>\n",
       "      <th>user_score</th>\n",
       "      <th>rating</th>\n",
       "      <th>total_sales</th>\n",
       "    </tr>\n",
       "  </thead>\n",
       "  <tbody>\n",
       "    <tr>\n",
       "      <th>0</th>\n",
       "      <td>Wii Sports</td>\n",
       "      <td>Wii</td>\n",
       "      <td>2006.0</td>\n",
       "      <td>Sports</td>\n",
       "      <td>41.36</td>\n",
       "      <td>28.96</td>\n",
       "      <td>3.77</td>\n",
       "      <td>8.45</td>\n",
       "      <td>76.0</td>\n",
       "      <td>8.0</td>\n",
       "      <td>E</td>\n",
       "      <td>82.54</td>\n",
       "    </tr>\n",
       "    <tr>\n",
       "      <th>1</th>\n",
       "      <td>Super Mario Bros.</td>\n",
       "      <td>NES</td>\n",
       "      <td>1985.0</td>\n",
       "      <td>Platform</td>\n",
       "      <td>29.08</td>\n",
       "      <td>3.58</td>\n",
       "      <td>6.81</td>\n",
       "      <td>0.77</td>\n",
       "      <td>NaN</td>\n",
       "      <td>NaN</td>\n",
       "      <td>NaN</td>\n",
       "      <td>40.24</td>\n",
       "    </tr>\n",
       "    <tr>\n",
       "      <th>2</th>\n",
       "      <td>Mario Kart Wii</td>\n",
       "      <td>Wii</td>\n",
       "      <td>2008.0</td>\n",
       "      <td>Racing</td>\n",
       "      <td>15.68</td>\n",
       "      <td>12.76</td>\n",
       "      <td>3.79</td>\n",
       "      <td>3.29</td>\n",
       "      <td>82.0</td>\n",
       "      <td>8.3</td>\n",
       "      <td>E</td>\n",
       "      <td>35.52</td>\n",
       "    </tr>\n",
       "    <tr>\n",
       "      <th>3</th>\n",
       "      <td>Wii Sports Resort</td>\n",
       "      <td>Wii</td>\n",
       "      <td>2009.0</td>\n",
       "      <td>Sports</td>\n",
       "      <td>15.61</td>\n",
       "      <td>10.93</td>\n",
       "      <td>3.28</td>\n",
       "      <td>2.95</td>\n",
       "      <td>80.0</td>\n",
       "      <td>8.0</td>\n",
       "      <td>E</td>\n",
       "      <td>32.77</td>\n",
       "    </tr>\n",
       "    <tr>\n",
       "      <th>4</th>\n",
       "      <td>Pokemon Red/Pokemon Blue</td>\n",
       "      <td>GB</td>\n",
       "      <td>1996.0</td>\n",
       "      <td>Role-Playing</td>\n",
       "      <td>11.27</td>\n",
       "      <td>8.89</td>\n",
       "      <td>10.22</td>\n",
       "      <td>1.00</td>\n",
       "      <td>NaN</td>\n",
       "      <td>NaN</td>\n",
       "      <td>NaN</td>\n",
       "      <td>31.38</td>\n",
       "    </tr>\n",
       "  </tbody>\n",
       "</table>\n",
       "</div>"
      ],
      "text/plain": [
       "                       name platform  year_of_release         genre  na_sales  \\\n",
       "0                Wii Sports      Wii           2006.0        Sports     41.36   \n",
       "1         Super Mario Bros.      NES           1985.0      Platform     29.08   \n",
       "2            Mario Kart Wii      Wii           2008.0        Racing     15.68   \n",
       "3         Wii Sports Resort      Wii           2009.0        Sports     15.61   \n",
       "4  Pokemon Red/Pokemon Blue       GB           1996.0  Role-Playing     11.27   \n",
       "\n",
       "   eu_sales  jp_sales  other_sales  critic_score  user_score rating  \\\n",
       "0     28.96      3.77         8.45          76.0         8.0      E   \n",
       "1      3.58      6.81         0.77           NaN         NaN    NaN   \n",
       "2     12.76      3.79         3.29          82.0         8.3      E   \n",
       "3     10.93      3.28         2.95          80.0         8.0      E   \n",
       "4      8.89     10.22         1.00           NaN         NaN    NaN   \n",
       "\n",
       "   total_sales  \n",
       "0        82.54  \n",
       "1        40.24  \n",
       "2        35.52  \n",
       "3        32.77  \n",
       "4        31.38  "
      ]
     },
     "execution_count": 16,
     "metadata": {},
     "output_type": "execute_result"
    }
   ],
   "source": [
    "games.head()"
   ]
  },
  {
   "cell_type": "code",
   "execution_count": 17,
   "metadata": {},
   "outputs": [
    {
     "data": {
      "text/html": [
       "<div>\n",
       "<style scoped>\n",
       "    .dataframe tbody tr th:only-of-type {\n",
       "        vertical-align: middle;\n",
       "    }\n",
       "\n",
       "    .dataframe tbody tr th {\n",
       "        vertical-align: top;\n",
       "    }\n",
       "\n",
       "    .dataframe thead th {\n",
       "        text-align: right;\n",
       "    }\n",
       "</style>\n",
       "<table border=\"1\" class=\"dataframe\">\n",
       "  <thead>\n",
       "    <tr style=\"text-align: right;\">\n",
       "      <th></th>\n",
       "      <th>platform</th>\n",
       "      <th>total_sales</th>\n",
       "    </tr>\n",
       "  </thead>\n",
       "  <tbody>\n",
       "    <tr>\n",
       "      <th>16</th>\n",
       "      <td>PS2</td>\n",
       "      <td>1255.77</td>\n",
       "    </tr>\n",
       "    <tr>\n",
       "      <th>28</th>\n",
       "      <td>X360</td>\n",
       "      <td>971.42</td>\n",
       "    </tr>\n",
       "    <tr>\n",
       "      <th>17</th>\n",
       "      <td>PS3</td>\n",
       "      <td>939.65</td>\n",
       "    </tr>\n",
       "    <tr>\n",
       "      <th>26</th>\n",
       "      <td>Wii</td>\n",
       "      <td>907.51</td>\n",
       "    </tr>\n",
       "    <tr>\n",
       "      <th>4</th>\n",
       "      <td>DS</td>\n",
       "      <td>806.12</td>\n",
       "    </tr>\n",
       "    <tr>\n",
       "      <th>15</th>\n",
       "      <td>PS</td>\n",
       "      <td>730.86</td>\n",
       "    </tr>\n",
       "  </tbody>\n",
       "</table>\n",
       "</div>"
      ],
      "text/plain": [
       "   platform  total_sales\n",
       "16      PS2      1255.77\n",
       "28     X360       971.42\n",
       "17      PS3       939.65\n",
       "26      Wii       907.51\n",
       "4        DS       806.12\n",
       "15       PS       730.86"
      ]
     },
     "execution_count": 17,
     "metadata": {},
     "output_type": "execute_result"
    }
   ],
   "source": [
    "#Plataformas con mayores ventas en orden descendente\n",
    "\n",
    "games_platf=games.groupby('platform')['total_sales'].sum().reset_index().sort_values(by = 'total_sales', ascending = False).head(6)\n",
    "games_platf"
   ]
  },
  {
   "cell_type": "code",
   "execution_count": 18,
   "metadata": {},
   "outputs": [
    {
     "data": {
      "text/plain": [
       "['PS2', 'X360', 'PS3', 'Wii', 'DS', 'PS']"
      ]
     },
     "execution_count": 18,
     "metadata": {},
     "output_type": "execute_result"
    }
   ],
   "source": [
    "#Las 6 plataformas lideres en venta\n",
    "\n",
    "games_platf_famous = list(games_platf['platform'])\n",
    "games_platf_famous"
   ]
  },
  {
   "cell_type": "code",
   "execution_count": 19,
   "metadata": {},
   "outputs": [
    {
     "data": {
      "image/png": "[encoded data removed]",
      "text/plain": [
       "<Figure size 576x360 with 1 Axes>"
      ]
     },
     "metadata": {
      "needs_background": "light"
     },
     "output_type": "display_data"
    }
   ],
   "source": [
    "#grafico de barras de las plataformas con mayores ventas\n",
    "\n",
    "games_platf.plot(kind = 'bar', x = 'platform', y = 'total_sales', legend = False, figsize = [8,5])\n",
    "plt.show()"
   ]
  },
  {
   "cell_type": "code",
   "execution_count": 20,
   "metadata": {
    "scrolled": false
   },
   "outputs": [
    {
     "data": {
      "image/png": "[encoded data removed]",
      "text/plain": [
       "<Figure size 1080x1440 with 6 Axes>"
      ]
     },
     "metadata": {
      "needs_background": "light"
     },
     "output_type": "display_data"
    }
   ],
   "source": [
    "#Se realiza un grafico de barras para la venta total para cada plataforma\n",
    "\n",
    "fig, ax = plt.subplots(ncols=2, nrows=3, figsize= [15,20]) #varias graficas\n",
    "\n",
    "for i, platform in enumerate(games_platf_famous):\n",
    "    \n",
    "    fam = games.query('platform in @platform')\n",
    "    \n",
    "    ax.flatten()[i].set_title(f'Ventas totales de la plataforma {platform}') #unidimesional\n",
    "    \n",
    "    #display(fam)\n",
    "    fam.groupby('year_of_release')['total_sales'].sum().plot(kind = 'bar', ax = ax.flatten()[i])\n",
    "    \n",
    "    fig.subplots_adjust(hspace=0.3)\n",
    "    "
   ]
  },
  {
   "cell_type": "code",
   "execution_count": 21,
   "metadata": {},
   "outputs": [
    {
     "data": {
      "image/png": "[encoded data removed]",
      "text/plain": [
       "<Figure size 576x360 with 1 Axes>"
      ]
     },
     "metadata": {
      "needs_background": "light"
     },
     "output_type": "display_data"
    }
   ],
   "source": [
    "games.query('platform in @games_platf_famous').pivot_table(index = 'year_of_release', columns = 'platform', \n",
    "                                                           values= 'total_sales', aggfunc = 'sum').plot(figsize = [8, 5])\n",
    "plt.show()"
   ]
  },
  {
   "cell_type": "markdown",
   "metadata": {},
   "source": [
    "De acuerdo a la gráfica, se observa que en los años 95's, aparecia una nueva plataforma en 5 años, como es el caso de la PS y PS2, mientras que sale su nueva versión decae la anterior; sin embargo mientras se avanza en el tiempo, se aprecia que las demas plataformas aparecieron casi simultaneamente en el 2005 y su caída 8 años después. Se trabajará con plataformas y videojuegos que aún no han sido descontinuados para un mejor análisis y predicción."
   ]
  },
  {
   "cell_type": "markdown",
   "metadata": {},
   "source": [
    "Se trabajara con datos desde el año 2012."
   ]
  },
  {
   "cell_type": "markdown",
   "metadata": {},
   "source": [
    "## Diagrama de caja"
   ]
  },
  {
   "cell_type": "code",
   "execution_count": 22,
   "metadata": {},
   "outputs": [
    {
     "data": {
      "image/png": "[encoded data removed]",
      "text/plain": [
       "<Figure size 1152x576 with 1 Axes>"
      ]
     },
     "metadata": {
      "needs_background": "light"
     },
     "output_type": "display_data"
    }
   ],
   "source": [
    "#Se realiza diagrama de caja con respecto a las ventas totales de acuerdo a plataforma filtrado desde el año 2012\n",
    "\n",
    "games[games['year_of_release']>=2012].boxplot(column = 'total_sales', by = 'platform', figsize = [16, 8])\n",
    "plt.ylim(0, 2)\n",
    "plt.title('Ventas totales por plataforma')\n",
    "plt.show()"
   ]
  },
  {
   "cell_type": "markdown",
   "metadata": {},
   "source": [
    "Las diferencias en ventas son ligeramente significativas esto podria deberse a la popularidad de ciertas plataformas y también a la reseña o critica de usuarios y profesionales, por otro lado también por la nueva generacion de una plataforma y sus antigua generación ya no es muy solicitada."
   ]
  },
  {
   "cell_type": "code",
   "execution_count": 23,
   "metadata": {},
   "outputs": [
    {
     "data": {
      "text/html": [
       "<div>\n",
       "<style scoped>\n",
       "    .dataframe tbody tr th:only-of-type {\n",
       "        vertical-align: middle;\n",
       "    }\n",
       "\n",
       "    .dataframe tbody tr th {\n",
       "        vertical-align: top;\n",
       "    }\n",
       "\n",
       "    .dataframe thead th {\n",
       "        text-align: right;\n",
       "    }\n",
       "</style>\n",
       "<table border=\"1\" class=\"dataframe\">\n",
       "  <thead>\n",
       "    <tr style=\"text-align: right;\">\n",
       "      <th></th>\n",
       "      <th>platform</th>\n",
       "      <th>total_sales</th>\n",
       "    </tr>\n",
       "  </thead>\n",
       "  <tbody>\n",
       "    <tr>\n",
       "      <th>9</th>\n",
       "      <td>X360</td>\n",
       "      <td>0.810068</td>\n",
       "    </tr>\n",
       "    <tr>\n",
       "      <th>4</th>\n",
       "      <td>PS4</td>\n",
       "      <td>0.801378</td>\n",
       "    </tr>\n",
       "    <tr>\n",
       "      <th>7</th>\n",
       "      <td>Wii</td>\n",
       "      <td>0.655000</td>\n",
       "    </tr>\n",
       "    <tr>\n",
       "      <th>10</th>\n",
       "      <td>XOne</td>\n",
       "      <td>0.645020</td>\n",
       "    </tr>\n",
       "    <tr>\n",
       "      <th>3</th>\n",
       "      <td>PS3</td>\n",
       "      <td>0.585781</td>\n",
       "    </tr>\n",
       "    <tr>\n",
       "      <th>8</th>\n",
       "      <td>WiiU</td>\n",
       "      <td>0.559116</td>\n",
       "    </tr>\n",
       "    <tr>\n",
       "      <th>0</th>\n",
       "      <td>3DS</td>\n",
       "      <td>0.491439</td>\n",
       "    </tr>\n",
       "    <tr>\n",
       "      <th>1</th>\n",
       "      <td>DS</td>\n",
       "      <td>0.404839</td>\n",
       "    </tr>\n",
       "    <tr>\n",
       "      <th>2</th>\n",
       "      <td>PC</td>\n",
       "      <td>0.250600</td>\n",
       "    </tr>\n",
       "    <tr>\n",
       "      <th>6</th>\n",
       "      <td>PSV</td>\n",
       "      <td>0.119659</td>\n",
       "    </tr>\n",
       "    <tr>\n",
       "      <th>5</th>\n",
       "      <td>PSP</td>\n",
       "      <td>0.064682</td>\n",
       "    </tr>\n",
       "  </tbody>\n",
       "</table>\n",
       "</div>"
      ],
      "text/plain": [
       "   platform  total_sales\n",
       "9      X360     0.810068\n",
       "4       PS4     0.801378\n",
       "7       Wii     0.655000\n",
       "10     XOne     0.645020\n",
       "3       PS3     0.585781\n",
       "8      WiiU     0.559116\n",
       "0       3DS     0.491439\n",
       "1        DS     0.404839\n",
       "2        PC     0.250600\n",
       "6       PSV     0.119659\n",
       "5       PSP     0.064682"
      ]
     },
     "execution_count": 23,
     "metadata": {},
     "output_type": "execute_result"
    }
   ],
   "source": [
    "#Se muestra en promedio de ventas por plataforma\n",
    "\n",
    "games[games['year_of_release']>=2012].groupby('platform')['total_sales'].mean().reset_index().sort_values(by = 'total_sales',\n",
    "                                                                                                         ascending = False)"
   ]
  },
  {
   "cell_type": "markdown",
   "metadata": {},
   "source": [
    "## Correlación"
   ]
  },
  {
   "cell_type": "markdown",
   "metadata": {},
   "source": [
    "Se elegira a continuación la PS3, para hallar la correlación entre las ventas y la critica de usuarios y profesionales."
   ]
  },
  {
   "cell_type": "code",
   "execution_count": 24,
   "metadata": {},
   "outputs": [
    {
     "data": {
      "text/html": [
       "<div>\n",
       "<style scoped>\n",
       "    .dataframe tbody tr th:only-of-type {\n",
       "        vertical-align: middle;\n",
       "    }\n",
       "\n",
       "    .dataframe tbody tr th {\n",
       "        vertical-align: top;\n",
       "    }\n",
       "\n",
       "    .dataframe thead th {\n",
       "        text-align: right;\n",
       "    }\n",
       "</style>\n",
       "<table border=\"1\" class=\"dataframe\">\n",
       "  <thead>\n",
       "    <tr style=\"text-align: right;\">\n",
       "      <th></th>\n",
       "      <th>name</th>\n",
       "      <th>platform</th>\n",
       "      <th>year_of_release</th>\n",
       "      <th>genre</th>\n",
       "      <th>na_sales</th>\n",
       "      <th>eu_sales</th>\n",
       "      <th>jp_sales</th>\n",
       "      <th>other_sales</th>\n",
       "      <th>critic_score</th>\n",
       "      <th>user_score</th>\n",
       "      <th>rating</th>\n",
       "      <th>total_sales</th>\n",
       "    </tr>\n",
       "  </thead>\n",
       "  <tbody>\n",
       "    <tr>\n",
       "      <th>16</th>\n",
       "      <td>Grand Theft Auto V</td>\n",
       "      <td>PS3</td>\n",
       "      <td>2013.0</td>\n",
       "      <td>Action</td>\n",
       "      <td>7.02</td>\n",
       "      <td>9.09</td>\n",
       "      <td>0.98</td>\n",
       "      <td>3.96</td>\n",
       "      <td>97.0</td>\n",
       "      <td>8.2</td>\n",
       "      <td>M</td>\n",
       "      <td>21.05</td>\n",
       "    </tr>\n",
       "    <tr>\n",
       "      <th>34</th>\n",
       "      <td>Call of Duty: Black Ops II</td>\n",
       "      <td>PS3</td>\n",
       "      <td>2012.0</td>\n",
       "      <td>Shooter</td>\n",
       "      <td>4.99</td>\n",
       "      <td>5.73</td>\n",
       "      <td>0.65</td>\n",
       "      <td>2.42</td>\n",
       "      <td>83.0</td>\n",
       "      <td>5.3</td>\n",
       "      <td>M</td>\n",
       "      <td>13.79</td>\n",
       "    </tr>\n",
       "    <tr>\n",
       "      <th>69</th>\n",
       "      <td>Call of Duty: Ghosts</td>\n",
       "      <td>PS3</td>\n",
       "      <td>2013.0</td>\n",
       "      <td>Shooter</td>\n",
       "      <td>4.10</td>\n",
       "      <td>3.63</td>\n",
       "      <td>0.38</td>\n",
       "      <td>1.25</td>\n",
       "      <td>71.0</td>\n",
       "      <td>2.6</td>\n",
       "      <td>M</td>\n",
       "      <td>9.36</td>\n",
       "    </tr>\n",
       "    <tr>\n",
       "      <th>81</th>\n",
       "      <td>FIFA Soccer 13</td>\n",
       "      <td>PS3</td>\n",
       "      <td>2012.0</td>\n",
       "      <td>Action</td>\n",
       "      <td>1.06</td>\n",
       "      <td>5.01</td>\n",
       "      <td>0.13</td>\n",
       "      <td>1.97</td>\n",
       "      <td>88.0</td>\n",
       "      <td>6.6</td>\n",
       "      <td>E</td>\n",
       "      <td>8.17</td>\n",
       "    </tr>\n",
       "    <tr>\n",
       "      <th>126</th>\n",
       "      <td>FIFA 14</td>\n",
       "      <td>PS3</td>\n",
       "      <td>2013.0</td>\n",
       "      <td>Sports</td>\n",
       "      <td>0.78</td>\n",
       "      <td>4.24</td>\n",
       "      <td>0.07</td>\n",
       "      <td>1.37</td>\n",
       "      <td>86.0</td>\n",
       "      <td>4.3</td>\n",
       "      <td>E</td>\n",
       "      <td>6.46</td>\n",
       "    </tr>\n",
       "    <tr>\n",
       "      <th>...</th>\n",
       "      <td>...</td>\n",
       "      <td>...</td>\n",
       "      <td>...</td>\n",
       "      <td>...</td>\n",
       "      <td>...</td>\n",
       "      <td>...</td>\n",
       "      <td>...</td>\n",
       "      <td>...</td>\n",
       "      <td>...</td>\n",
       "      <td>...</td>\n",
       "      <td>...</td>\n",
       "      <td>...</td>\n",
       "    </tr>\n",
       "    <tr>\n",
       "      <th>16628</th>\n",
       "      <td>Akatsuki no Goei Trinity</td>\n",
       "      <td>PS3</td>\n",
       "      <td>2012.0</td>\n",
       "      <td>Adventure</td>\n",
       "      <td>0.00</td>\n",
       "      <td>0.00</td>\n",
       "      <td>0.01</td>\n",
       "      <td>0.00</td>\n",
       "      <td>NaN</td>\n",
       "      <td>NaN</td>\n",
       "      <td>NaN</td>\n",
       "      <td>0.01</td>\n",
       "    </tr>\n",
       "    <tr>\n",
       "      <th>16638</th>\n",
       "      <td>Tour de France 2014</td>\n",
       "      <td>PS3</td>\n",
       "      <td>2014.0</td>\n",
       "      <td>Sports</td>\n",
       "      <td>0.00</td>\n",
       "      <td>0.01</td>\n",
       "      <td>0.00</td>\n",
       "      <td>0.00</td>\n",
       "      <td>NaN</td>\n",
       "      <td>NaN</td>\n",
       "      <td>E</td>\n",
       "      <td>0.01</td>\n",
       "    </tr>\n",
       "    <tr>\n",
       "      <th>16674</th>\n",
       "      <td>Tsukigime Ranko's Longest Day</td>\n",
       "      <td>PS3</td>\n",
       "      <td>2014.0</td>\n",
       "      <td>Action</td>\n",
       "      <td>0.00</td>\n",
       "      <td>0.01</td>\n",
       "      <td>0.00</td>\n",
       "      <td>0.00</td>\n",
       "      <td>NaN</td>\n",
       "      <td>NaN</td>\n",
       "      <td>NaN</td>\n",
       "      <td>0.01</td>\n",
       "    </tr>\n",
       "    <tr>\n",
       "      <th>16691</th>\n",
       "      <td>Dynasty Warriors: Eiketsuden</td>\n",
       "      <td>PS3</td>\n",
       "      <td>2016.0</td>\n",
       "      <td>Action</td>\n",
       "      <td>0.00</td>\n",
       "      <td>0.00</td>\n",
       "      <td>0.01</td>\n",
       "      <td>0.00</td>\n",
       "      <td>NaN</td>\n",
       "      <td>NaN</td>\n",
       "      <td>NaN</td>\n",
       "      <td>0.01</td>\n",
       "    </tr>\n",
       "    <tr>\n",
       "      <th>16710</th>\n",
       "      <td>Samurai Warriors: Sanada Maru</td>\n",
       "      <td>PS3</td>\n",
       "      <td>2016.0</td>\n",
       "      <td>Action</td>\n",
       "      <td>0.00</td>\n",
       "      <td>0.00</td>\n",
       "      <td>0.01</td>\n",
       "      <td>0.00</td>\n",
       "      <td>NaN</td>\n",
       "      <td>NaN</td>\n",
       "      <td>NaN</td>\n",
       "      <td>0.01</td>\n",
       "    </tr>\n",
       "  </tbody>\n",
       "</table>\n",
       "<p>493 rows × 12 columns</p>\n",
       "</div>"
      ],
      "text/plain": [
       "                                name platform  year_of_release      genre  \\\n",
       "16                Grand Theft Auto V      PS3           2013.0     Action   \n",
       "34        Call of Duty: Black Ops II      PS3           2012.0    Shooter   \n",
       "69              Call of Duty: Ghosts      PS3           2013.0    Shooter   \n",
       "81                    FIFA Soccer 13      PS3           2012.0     Action   \n",
       "126                          FIFA 14      PS3           2013.0     Sports   \n",
       "...                              ...      ...              ...        ...   \n",
       "16628       Akatsuki no Goei Trinity      PS3           2012.0  Adventure   \n",
       "16638            Tour de France 2014      PS3           2014.0     Sports   \n",
       "16674  Tsukigime Ranko's Longest Day      PS3           2014.0     Action   \n",
       "16691   Dynasty Warriors: Eiketsuden      PS3           2016.0     Action   \n",
       "16710  Samurai Warriors: Sanada Maru      PS3           2016.0     Action   \n",
       "\n",
       "       na_sales  eu_sales  jp_sales  other_sales  critic_score  user_score  \\\n",
       "16         7.02      9.09      0.98         3.96          97.0         8.2   \n",
       "34         4.99      5.73      0.65         2.42          83.0         5.3   \n",
       "69         4.10      3.63      0.38         1.25          71.0         2.6   \n",
       "81         1.06      5.01      0.13         1.97          88.0         6.6   \n",
       "126        0.78      4.24      0.07         1.37          86.0         4.3   \n",
       "...         ...       ...       ...          ...           ...         ...   \n",
       "16628      0.00      0.00      0.01         0.00           NaN         NaN   \n",
       "16638      0.00      0.01      0.00         0.00           NaN         NaN   \n",
       "16674      0.00      0.01      0.00         0.00           NaN         NaN   \n",
       "16691      0.00      0.00      0.01         0.00           NaN         NaN   \n",
       "16710      0.00      0.00      0.01         0.00           NaN         NaN   \n",
       "\n",
       "      rating  total_sales  \n",
       "16         M        21.05  \n",
       "34         M        13.79  \n",
       "69         M         9.36  \n",
       "81         E         8.17  \n",
       "126        E         6.46  \n",
       "...      ...          ...  \n",
       "16628    NaN         0.01  \n",
       "16638      E         0.01  \n",
       "16674    NaN         0.01  \n",
       "16691    NaN         0.01  \n",
       "16710    NaN         0.01  \n",
       "\n",
       "[493 rows x 12 columns]"
      ]
     },
     "execution_count": 24,
     "metadata": {},
     "output_type": "execute_result"
    }
   ],
   "source": [
    "#Se filtra para seleccionar la plataforma PS3\n",
    "\n",
    "platf_ps3 = games[(games['year_of_release'] >= 2012) & (games['platform'] == 'PS3')]\n",
    "platf_ps3"
   ]
  },
  {
   "cell_type": "code",
   "execution_count": 25,
   "metadata": {},
   "outputs": [
    {
     "data": {
      "image/png": "[encoded data removed]",
      "text/plain": [
       "<Figure size 432x288 with 1 Axes>"
      ]
     },
     "metadata": {
      "needs_background": "light"
     },
     "output_type": "display_data"
    }
   ],
   "source": [
    "#Diagrama de dispersión entre puntuacion de usuarios y ventas totales\n",
    "\n",
    "platf_ps3.plot(kind = 'scatter', x = 'user_score', y = 'total_sales')\n",
    "plt.show()"
   ]
  },
  {
   "cell_type": "code",
   "execution_count": 26,
   "metadata": {},
   "outputs": [
    {
     "data": {
      "text/plain": [
       "-0.005143522887113815"
      ]
     },
     "execution_count": 26,
     "metadata": {},
     "output_type": "execute_result"
    }
   ],
   "source": [
    "platf_ps3['user_score'].corr(platf_ps3['total_sales'])"
   ]
  },
  {
   "cell_type": "markdown",
   "metadata": {},
   "source": [
    "La correlación es de -0.005, esto quiere decir que el 0.5% presenta una correlación negativa muy debil."
   ]
  },
  {
   "cell_type": "code",
   "execution_count": 27,
   "metadata": {},
   "outputs": [
    {
     "data": {
      "image/png": "[encoded data removed]",
      "text/plain": [
       "<Figure size 432x288 with 1 Axes>"
      ]
     },
     "metadata": {
      "needs_background": "light"
     },
     "output_type": "display_data"
    }
   ],
   "source": [
    "platf_ps3.plot(kind = 'scatter', x = 'critic_score', y = 'total_sales')\n",
    "plt.show()"
   ]
  },
  {
   "cell_type": "code",
   "execution_count": 28,
   "metadata": {},
   "outputs": [
    {
     "data": {
      "text/plain": [
       "0.3314972592629587"
      ]
     },
     "execution_count": 28,
     "metadata": {},
     "output_type": "execute_result"
    }
   ],
   "source": [
    "platf_ps3['critic_score'].corr(platf_ps3['total_sales'])"
   ]
  },
  {
   "cell_type": "markdown",
   "metadata": {},
   "source": [
    "La correlación es de 0.33, esto quiere decir que el 33.1% de las ventas se puede explicar con la critica de profesionales. Presenta una correlacion moderada.\n",
    "\n",
    "Al parecer la tercera parte de los usuarios para esta plataforma se guian de la critica experta."
   ]
  },
  {
   "cell_type": "markdown",
   "metadata": {},
   "source": [
    "## Juego por plataforma"
   ]
  },
  {
   "cell_type": "code",
   "execution_count": 29,
   "metadata": {},
   "outputs": [
    {
     "data": {
      "text/html": [
       "<div>\n",
       "<style scoped>\n",
       "    .dataframe tbody tr th:only-of-type {\n",
       "        vertical-align: middle;\n",
       "    }\n",
       "\n",
       "    .dataframe tbody tr th {\n",
       "        vertical-align: top;\n",
       "    }\n",
       "\n",
       "    .dataframe thead th {\n",
       "        text-align: right;\n",
       "    }\n",
       "</style>\n",
       "<table border=\"1\" class=\"dataframe\">\n",
       "  <thead>\n",
       "    <tr style=\"text-align: right;\">\n",
       "      <th></th>\n",
       "      <th>name</th>\n",
       "      <th>platform</th>\n",
       "      <th>year_of_release</th>\n",
       "      <th>genre</th>\n",
       "      <th>na_sales</th>\n",
       "      <th>eu_sales</th>\n",
       "      <th>jp_sales</th>\n",
       "      <th>other_sales</th>\n",
       "      <th>critic_score</th>\n",
       "      <th>user_score</th>\n",
       "      <th>rating</th>\n",
       "      <th>total_sales</th>\n",
       "    </tr>\n",
       "  </thead>\n",
       "  <tbody>\n",
       "    <tr>\n",
       "      <th>16</th>\n",
       "      <td>Grand Theft Auto V</td>\n",
       "      <td>PS3</td>\n",
       "      <td>2013.0</td>\n",
       "      <td>Action</td>\n",
       "      <td>7.02</td>\n",
       "      <td>9.09</td>\n",
       "      <td>0.98</td>\n",
       "      <td>3.96</td>\n",
       "      <td>97.0</td>\n",
       "      <td>8.2</td>\n",
       "      <td>M</td>\n",
       "      <td>21.05</td>\n",
       "    </tr>\n",
       "    <tr>\n",
       "      <th>23</th>\n",
       "      <td>Grand Theft Auto V</td>\n",
       "      <td>X360</td>\n",
       "      <td>2013.0</td>\n",
       "      <td>Action</td>\n",
       "      <td>9.66</td>\n",
       "      <td>5.14</td>\n",
       "      <td>0.06</td>\n",
       "      <td>1.41</td>\n",
       "      <td>97.0</td>\n",
       "      <td>8.1</td>\n",
       "      <td>M</td>\n",
       "      <td>16.27</td>\n",
       "    </tr>\n",
       "    <tr>\n",
       "      <th>31</th>\n",
       "      <td>Call of Duty: Black Ops 3</td>\n",
       "      <td>PS4</td>\n",
       "      <td>2015.0</td>\n",
       "      <td>Shooter</td>\n",
       "      <td>6.03</td>\n",
       "      <td>5.86</td>\n",
       "      <td>0.36</td>\n",
       "      <td>2.38</td>\n",
       "      <td>NaN</td>\n",
       "      <td>NaN</td>\n",
       "      <td>NaN</td>\n",
       "      <td>14.63</td>\n",
       "    </tr>\n",
       "    <tr>\n",
       "      <th>33</th>\n",
       "      <td>Pokemon X/Pokemon Y</td>\n",
       "      <td>3DS</td>\n",
       "      <td>2013.0</td>\n",
       "      <td>Role-Playing</td>\n",
       "      <td>5.28</td>\n",
       "      <td>4.19</td>\n",
       "      <td>4.35</td>\n",
       "      <td>0.78</td>\n",
       "      <td>NaN</td>\n",
       "      <td>NaN</td>\n",
       "      <td>NaN</td>\n",
       "      <td>14.60</td>\n",
       "    </tr>\n",
       "    <tr>\n",
       "      <th>34</th>\n",
       "      <td>Call of Duty: Black Ops II</td>\n",
       "      <td>PS3</td>\n",
       "      <td>2012.0</td>\n",
       "      <td>Shooter</td>\n",
       "      <td>4.99</td>\n",
       "      <td>5.73</td>\n",
       "      <td>0.65</td>\n",
       "      <td>2.42</td>\n",
       "      <td>83.0</td>\n",
       "      <td>5.3</td>\n",
       "      <td>M</td>\n",
       "      <td>13.79</td>\n",
       "    </tr>\n",
       "  </tbody>\n",
       "</table>\n",
       "</div>"
      ],
      "text/plain": [
       "                          name platform  year_of_release         genre  \\\n",
       "16          Grand Theft Auto V      PS3           2013.0        Action   \n",
       "23          Grand Theft Auto V     X360           2013.0        Action   \n",
       "31   Call of Duty: Black Ops 3      PS4           2015.0       Shooter   \n",
       "33         Pokemon X/Pokemon Y      3DS           2013.0  Role-Playing   \n",
       "34  Call of Duty: Black Ops II      PS3           2012.0       Shooter   \n",
       "\n",
       "    na_sales  eu_sales  jp_sales  other_sales  critic_score  user_score  \\\n",
       "16      7.02      9.09      0.98         3.96          97.0         8.2   \n",
       "23      9.66      5.14      0.06         1.41          97.0         8.1   \n",
       "31      6.03      5.86      0.36         2.38           NaN         NaN   \n",
       "33      5.28      4.19      4.35         0.78           NaN         NaN   \n",
       "34      4.99      5.73      0.65         2.42          83.0         5.3   \n",
       "\n",
       "   rating  total_sales  \n",
       "16      M        21.05  \n",
       "23      M        16.27  \n",
       "31    NaN        14.63  \n",
       "33    NaN        14.60  \n",
       "34      M        13.79  "
      ]
     },
     "execution_count": 29,
     "metadata": {},
     "output_type": "execute_result"
    }
   ],
   "source": [
    "#Utilizamos datos desde 2012 hacia delante\n",
    "\n",
    "games_new = games[games['year_of_release']>=2012]\n",
    "games_new.head()"
   ]
  },
  {
   "cell_type": "code",
   "execution_count": 30,
   "metadata": {
    "scrolled": true
   },
   "outputs": [
    {
     "data": {
      "text/plain": [
       "[\" Frozen: Olaf's Quest\",\n",
       " '2014 FIFA World Cup Brazil',\n",
       " '3rd Super Robot Wars Z Jigoku Hen',\n",
       " '3rd Super Robot Wars Z: Tengoku-Hen',\n",
       " '7 Days to Die',\n",
       " 'AKB1/149: Love Election',\n",
       " 'Abunai: Koi no Sousa Shitsu',\n",
       " 'Accel World: Ginyoku no Kakusei',\n",
       " 'Accel World: Kasoku no Chouten',\n",
       " \"Adventure Time: Explore the Dungeon Because I Don't Know!\",\n",
       " 'Adventure Time: Finn & Jake Investigations',\n",
       " 'Adventure Time: The Secret of the Nameless ',\n",
       " 'Adventure Time: The Secret of the Nameless Kingdom',\n",
       " 'Aegis of Earth: Protonovus Assault',\n",
       " \"Agatha Christie's The ABC Murders\",\n",
       " 'Akatsuki no Goei Trinity',\n",
       " \"Akiba's Trip: Undead & Undressed\",\n",
       " 'Alien: Isolation',\n",
       " 'Aliens: Colonial Marines',\n",
       " 'All Kamen Rider: Rider Generation 2',\n",
       " 'Amnesia Later',\n",
       " 'Anarchy Reigns',\n",
       " 'Angry Birds Star Wars',\n",
       " 'Angry Birds Trilogy',\n",
       " 'Ar Nosurge: Ode to an Unborn Star',\n",
       " 'Armored Core V',\n",
       " \"Army of Two: The Devil's Cartel\",\n",
       " 'Arslan: The Warriors of Legend',\n",
       " \"Assassin's Creed Chronicles\",\n",
       " \"Assassin's Creed III\",\n",
       " \"Assassin's Creed IV: Black Flag\",\n",
       " \"Assassin's Creed Syndicate\",\n",
       " \"Assassin's Creed The Ezio Collection\",\n",
       " \"Assassin's Creed: Rogue\",\n",
       " \"Assassin's Creed: Unity\",\n",
       " 'Assetto Corsa',\n",
       " \"Asura's Wrath\",\n",
       " 'Atari Flashback Classics: Volume 1',\n",
       " 'Atari Flashback Classics: Volume 2',\n",
       " 'Atelier Ayesha: The Alchemist of Dusk',\n",
       " 'Atelier Escha & Logy: Alchemists of the Dusk Sky',\n",
       " 'Atelier Firis: The Alchemist of the Mysterious Journey',\n",
       " 'Atelier Sophie: The Alchemist of the Mysterious Book',\n",
       " 'Attack on Titan (KOEI)',\n",
       " 'Back to the Future: The Game',\n",
       " 'Bakumatsu Rock: Ultra Soul',\n",
       " 'Barbie and Her Sisters Puppy Rescue',\n",
       " 'Batman: A Telltale Game Series',\n",
       " 'Batman: Arkham Knight',\n",
       " 'Batman: Arkham Origins',\n",
       " 'Batman: Arkham Origins Blackgate',\n",
       " 'Batman: Return to Arkham',\n",
       " 'Battleborn',\n",
       " 'Battlefield 1',\n",
       " 'Battlefield 4',\n",
       " 'Battlefield: Hardline',\n",
       " 'Ben 10 Omniverse 2',\n",
       " 'Berserk and the Band of the Hawk',\n",
       " 'Binary Domain',\n",
       " 'BioShock Infinite',\n",
       " 'BioShock The Collection',\n",
       " 'Birds of Steel',\n",
       " 'Blade Arcus from Shining EX',\n",
       " 'Blades of Time',\n",
       " 'Bladestorm: Nightmare',\n",
       " 'BlazBlue Central Fiction',\n",
       " 'BlazBlue: Chrono Phantasma',\n",
       " 'BlazBlue: Chrono Phantasma Extend',\n",
       " 'Borderlands 2',\n",
       " 'Borderlands: The Handsome Collection',\n",
       " 'Borderlands: The Pre-Sequel',\n",
       " 'Brave: The Video Game',\n",
       " \"Broken Sword 5: The Serpent's Curse\",\n",
       " 'Brothers: A Tale of Two Sons',\n",
       " \"Cabela's Big Game Hunter: Pro Hunts\",\n",
       " 'Call of Duty: Advanced Warfare',\n",
       " 'Call of Duty: Black Ops 3',\n",
       " 'Call of Duty: Black Ops II',\n",
       " 'Call of Duty: Ghosts',\n",
       " 'Call of Duty: Infinite Warfare',\n",
       " 'Call of Duty: Modern Warfare Trilogy',\n",
       " 'Captain Morgane and the Golden Turtle',\n",
       " 'Carmageddon: Max Damage',\n",
       " 'Castlevania: Lords of Shadow 2',\n",
       " 'Chaos;Child',\n",
       " 'Child of Light',\n",
       " 'Conception II: Children of the Seven Stars',\n",
       " 'Crysis 3',\n",
       " 'Danganronpa 2: Goodbye Despair',\n",
       " 'Dark Souls II',\n",
       " 'Dark Souls III',\n",
       " 'Darksiders II',\n",
       " 'Darksiders: Warmastered Edition',\n",
       " 'Dead Island Definitive Collection',\n",
       " 'Dead Island: Riptide',\n",
       " 'Dead Rising',\n",
       " 'Dead Rising 2',\n",
       " 'Dead Space 3',\n",
       " 'Dead or Alive 5',\n",
       " 'Deadliest Warrior: Ancient Combat',\n",
       " 'Deadpool',\n",
       " 'Deception IV: Blood Ties',\n",
       " 'Defiance',\n",
       " 'Dengeki Bunko Fighting Climax',\n",
       " 'Destiny',\n",
       " 'Destiny: The Collection',\n",
       " 'Destiny: The Taken King',\n",
       " 'Detective Conan: Prelude from the Past',\n",
       " 'Deus Ex: Mankind Divided',\n",
       " 'Devil May Cry HD Collection',\n",
       " 'DiRT Rally',\n",
       " 'DiRT Showdown',\n",
       " 'Diablo III',\n",
       " 'Diabolik Lovers: More Blood',\n",
       " 'Digimon All-Star Rumble',\n",
       " 'Digimon Story: Cyber Sleuth',\n",
       " 'Dishonored',\n",
       " 'Dishonored 2',\n",
       " 'Disney Infinity',\n",
       " 'Disney Infinity 2.0: Marvel Super Heroes',\n",
       " 'Disney Infinity 3.0',\n",
       " 'Disney Planes Fire & Rescue',\n",
       " \"Disney's Planes\",\n",
       " 'Divinity: Original Sin',\n",
       " 'DmC: Devil May Cry',\n",
       " 'Don Bradman Cricket 14',\n",
       " 'Doom (2016)',\n",
       " 'Doom 3 BFG Edition',\n",
       " 'Dragon Age: Inquisition',\n",
       " 'Dragon Ball Z: Battle of Z',\n",
       " 'Dragon Ball: XenoVerse',\n",
       " 'Dragon Ball: Xenoverse 2',\n",
       " 'Dragon Quest Builders: Revive Alefgard',\n",
       " \"Dragon Quest Heroes II: Twin Kings and the Prophecy's End\",\n",
       " \"Dragon Quest Heroes: The World's Tree Woe and the Blight Below\",\n",
       " 'Dragon Quest X',\n",
       " \"Dragon's Crown\",\n",
       " \"Dragon's Dogma\",\n",
       " \"Dragon's Dogma Online\",\n",
       " 'DuckTales: Remastered',\n",
       " 'Duke Nukem 3D: 20th Anniversary World Tour',\n",
       " 'Dungeon Travelers 2: The Royal Library & The Monster Seal',\n",
       " 'Dying Light',\n",
       " 'Dynasty Warriors 8',\n",
       " 'Dynasty Warriors 8: Empires',\n",
       " 'Dynasty Warriors 8: Xtreme Legends',\n",
       " 'Dynasty Warriors: Eiketsuden',\n",
       " 'Dynasty Warriors: Gundam Reborn',\n",
       " 'E.X. Troopers',\n",
       " 'EA Sports UFC',\n",
       " 'EA Sports UFC 2',\n",
       " 'Earth Defense Force 2025',\n",
       " 'Enemy Front',\n",
       " 'Epic Mickey 2: The Power of Two',\n",
       " 'Escape Dead Island',\n",
       " 'Evolve',\n",
       " 'Exist Archive: The Other Side of the Sky',\n",
       " 'Exstetra',\n",
       " 'F1 2012',\n",
       " 'F1 2013',\n",
       " 'F1 2014',\n",
       " 'F1 2015',\n",
       " 'F1 2016 (Codemasters)',\n",
       " 'F1 Race Stars',\n",
       " 'FIFA 14',\n",
       " 'FIFA 15',\n",
       " 'FIFA 16',\n",
       " 'FIFA 17',\n",
       " 'FIFA Soccer 13',\n",
       " 'FIFA Street',\n",
       " 'Fallout 4',\n",
       " 'Family Guy: Back to the Multiverse',\n",
       " 'Fantasia: Music Evolved',\n",
       " 'Far Cry 3',\n",
       " 'Far Cry 4',\n",
       " 'Far Cry: Primal',\n",
       " 'Farming Simulator 17',\n",
       " 'Farming Simulator 2013',\n",
       " 'Farming Simulator 2015',\n",
       " 'Fast & Furious: Showdown',\n",
       " 'Fate/Extella: The Umbral Star',\n",
       " 'Final Fantasy Type-0',\n",
       " 'Final Fantasy X / X-2 HD Remaster',\n",
       " 'Final Fantasy XIV: A Realm Reborn',\n",
       " 'Final Fantasy XIV: Heavensward',\n",
       " \"Fist of the North Star: Ken's Rage 2\",\n",
       " 'Football Manager 2014',\n",
       " 'Forza Horizon 2',\n",
       " 'Fuse (Insomniac)',\n",
       " 'GRID 2',\n",
       " 'GRID Autosport',\n",
       " 'Game of Thrones',\n",
       " 'Game of Thrones (Telltale)',\n",
       " 'Ghostbusters (2016)',\n",
       " 'God Eater 2',\n",
       " 'God Eater 2: Rage Burst',\n",
       " 'God Eater Resurrection',\n",
       " 'Gotouchi Tetsudou: Gotouchi Chara to Nihon Zenkoku no Tabi',\n",
       " 'Grand Ages: Medieval',\n",
       " 'Grand Kingdom',\n",
       " 'Grand Slam Tennis 2',\n",
       " 'Grand Theft Auto V',\n",
       " 'Guilty Gear Xrd -Revelator-',\n",
       " 'Guilty Gear Xrd: Sign',\n",
       " 'Guitar Hero Live',\n",
       " 'Gundam Breaker',\n",
       " 'Gundam Breaker 2',\n",
       " 'Gundam Breaker 3',\n",
       " 'Handball 16',\n",
       " 'Harukanaru Toki no Naka de 6',\n",
       " 'Hatsune Miku: Project Diva F 2nd',\n",
       " 'Hatsune Miku: Project Diva X',\n",
       " 'Hatsune Miku: Project Diva f',\n",
       " 'Higurashi no Naku Koro ni Iki',\n",
       " 'Hitman (2016)',\n",
       " 'Hitman: Absolution',\n",
       " 'Hitman: HD Trilogy',\n",
       " 'Homefront: The Revolution',\n",
       " 'How to Train Your Dragon 2',\n",
       " 'Hyperdimension Neptunia Victory',\n",
       " 'Hyrule Warriors',\n",
       " 'I Am In The Movie',\n",
       " 'Infinite Stratos 2: Ignition Hearts',\n",
       " 'Injustice: Gods Among Us',\n",
       " 'Inversion',\n",
       " 'J Stars Victory Vs.',\n",
       " 'James Bond 007: Legends',\n",
       " 'Jikkyou Powerful Pro Baseball 2016',\n",
       " 'Jikkyou Powerful Pro Yakyuu 2012',\n",
       " 'Jikkyou Powerful Pro Yakyuu 2013',\n",
       " 'Jikkyou Powerful Pro Yakyuu 2014',\n",
       " \"JoJo's Bizarre Adventure: All Star Battle\",\n",
       " \"JoJo's Bizarre Adventure: Eyes of Heaven\",\n",
       " 'Just Cause 3',\n",
       " 'Just Dance 2014',\n",
       " 'Just Dance 2015',\n",
       " 'Just Dance 2016',\n",
       " 'Just Dance 2017',\n",
       " 'Just Dance 4',\n",
       " 'Just Dance: Disney Party',\n",
       " 'Just Dance: Disney Party 2',\n",
       " 'Kamen Rider: Battride War Genesis',\n",
       " 'Kamen Rider: Battride War II',\n",
       " 'Killer is Dead',\n",
       " 'Kingdoms of Amalur: Reckoning',\n",
       " 'Kung Fu Panda: Showdown of Legendary Legends',\n",
       " \"Kuroko's Basketball: Miracle Game\",\n",
       " 'Kyokugen Dasshutsu ADV: Zennin Shiboudesu',\n",
       " 'LEGO Batman 2: DC Super Heroes',\n",
       " 'LEGO City Undercover',\n",
       " 'LEGO Dimensions',\n",
       " 'LEGO Jurassic World',\n",
       " \"LEGO Legends of Chima: Laval's Journey\",\n",
       " 'LEGO Marvel Super Heroes',\n",
       " \"LEGO Marvel's Avengers\",\n",
       " 'LEGO Ninjago: Shadow of Ronin',\n",
       " 'LEGO The Hobbit',\n",
       " 'LEGO The Lord of the Rings',\n",
       " 'Lara Croft and the Temple of Osiris',\n",
       " 'Legend of Kay',\n",
       " 'Legend of Kay Anniversary',\n",
       " 'Lego Batman 3: Beyond Gotham',\n",
       " 'Lego Star Wars: The Force Awakens',\n",
       " 'Life is Strange',\n",
       " 'Lightning Returns: Final Fantasy XIII',\n",
       " 'Little Battlers eXperience W',\n",
       " 'LittleBigPlanet 3',\n",
       " 'Lollipop Chainsaw',\n",
       " 'London 2012: The Official Video Game of the Olympic Games',\n",
       " 'Lords of the Fallen',\n",
       " 'Lost Dimension',\n",
       " 'Lost Heroes',\n",
       " 'Lost Planet 3',\n",
       " 'MLB 12: The Show',\n",
       " 'MLB 13: The Show',\n",
       " 'MLB 14: The Show',\n",
       " 'MLB 15: The Show',\n",
       " 'MLB 16: The Show',\n",
       " 'MX vs. ATV Supercross',\n",
       " 'MX vs. ATV Supercross Encore',\n",
       " 'MXGP 2',\n",
       " 'Mad Max (2015)',\n",
       " 'Madden NFL 13',\n",
       " 'Madden NFL 15',\n",
       " 'Madden NFL 16',\n",
       " 'Madden NFL 17',\n",
       " 'Madden NFL 25',\n",
       " 'Mafia III',\n",
       " 'Major League Baseball 2K12',\n",
       " 'Major League Baseball 2K13',\n",
       " 'Mario & Sonic at the Rio 2016 Olympic Games',\n",
       " 'Mario vs. Donkey Kong: Tipping Stars',\n",
       " 'Mark McMorris Infinite Air',\n",
       " 'Marvel Avengers: Battle for Earth',\n",
       " 'Mass Effect 3',\n",
       " 'Mass Effect Trilogy',\n",
       " 'Max Payne 3',\n",
       " 'Medal of Honor: Warfighter',\n",
       " 'Mega Man Legacy Collection',\n",
       " 'Metal Gear Rising: Revengeance',\n",
       " 'Metal Gear Solid V: Ground Zeroes',\n",
       " 'Metal Gear Solid V: The Definitive Experience',\n",
       " 'Metal Gear Solid V: The Phantom Pain',\n",
       " 'Metro: Last Light',\n",
       " 'Middle-Earth: Shadow of Mordor',\n",
       " 'Mighty No. 9',\n",
       " 'Minecraft',\n",
       " 'Minecraft: Story Mode',\n",
       " \"Mirror's Edge Catalyst\",\n",
       " 'Monster High 13 Wishes',\n",
       " 'Monster High: New Ghoul in School',\n",
       " 'Mortal Kombat X',\n",
       " 'Moshi Monsters: Katsuma Unleashed',\n",
       " 'Moshi Monsters: Moshlings Theme Park',\n",
       " 'MotoGP 14 ',\n",
       " 'MotoGP 15',\n",
       " 'Murdered: Soul Suspect',\n",
       " \"NASCAR '14\",\n",
       " 'NASCAR Heat Evolution',\n",
       " 'NASCAR The Game: Inside Line',\n",
       " 'NBA 2K13',\n",
       " 'NBA 2K14',\n",
       " 'NBA 2K15',\n",
       " 'NBA 2K16',\n",
       " 'NBA 2K17',\n",
       " 'NBA Live 14',\n",
       " 'NBA Live 15',\n",
       " 'NBA Live 16',\n",
       " 'NCAA Football 13',\n",
       " 'NCAA Football 14',\n",
       " 'NHL 13',\n",
       " 'NHL 14',\n",
       " 'NHL 15',\n",
       " 'NHL 16',\n",
       " 'NHL 17',\n",
       " 'NHL Legacy',\n",
       " 'Naruto Shippuden: Ultimate Ninja Storm 3',\n",
       " 'Naruto Shippuden: Ultimate Ninja Storm 4',\n",
       " 'Naruto Shippuden: Ultimate Ninja Storm Generations',\n",
       " 'Naruto Shippuden: Ultimate Ninja Storm Revolution',\n",
       " 'Natsuiro High School: Seishun Hakusho',\n",
       " 'Natural Doctrine',\n",
       " 'Need for Speed (2015)',\n",
       " 'Need for Speed Rivals',\n",
       " 'Need for Speed: Most Wanted',\n",
       " 'NeverDead',\n",
       " 'Ninja Gaiden 3',\n",
       " 'Nitroplus Blasterz: Heroines Infinite Duel',\n",
       " 'Nobunaga no Yabou: Souzou',\n",
       " \"Nobunaga's Ambition: Sphere of Influence\",\n",
       " \"Nobunaga's Ambition: Sphere of Influence - Sengoku Risshiden\",\n",
       " 'Odin Sphere: Leifthrasir',\n",
       " 'One Piece: Burning Blood',\n",
       " 'One Piece: Pirate Warriors 2',\n",
       " 'One Piece: Pirate Warriors 3',\n",
       " 'One Piece: Romance Dawn - Bouken no Yoake',\n",
       " 'One Piece: Unlimited World Red',\n",
       " 'Onechanbara Z Kagura',\n",
       " 'Overwatch',\n",
       " 'PAC-MAN and the Ghostly Adventures',\n",
       " 'Pac-Man and the Ghostly Adventures 2',\n",
       " 'Painkiller: Hell & Damnation',\n",
       " 'Payday 2',\n",
       " 'Penguins of Madagascar',\n",
       " 'Persona 4: Arena',\n",
       " 'Persona 4: Arena Ultimax',\n",
       " 'Persona 5',\n",
       " 'PhotoKano',\n",
       " 'Plants vs. Zombies: Garden Warfare',\n",
       " 'Plants vs. Zombies: Garden Warfare 2',\n",
       " 'PlayStation All-Stars Battle Royale',\n",
       " 'Prison Architect',\n",
       " 'Pro Baseball Spirits 2015',\n",
       " 'Pro Cycling Manager 2016',\n",
       " 'Pro Evolution Soccer 2013',\n",
       " 'Pro Evolution Soccer 2014',\n",
       " 'Pro Evolution Soccer 2015',\n",
       " 'Pro Evolution Soccer 2016',\n",
       " 'Pro Evolution Soccer 2017',\n",
       " 'Pro Yaky? Spirits 2012',\n",
       " 'Pro Yaky? Spirits 2013',\n",
       " 'Pro Yaky? Spirits 2014',\n",
       " 'Project CARS',\n",
       " 'Project Setsuna',\n",
       " 'Prototype: Biohazard Bundle',\n",
       " 'Psycho-Pass: Mandatory Happiness',\n",
       " 'Putty Squad',\n",
       " 'Puyo Puyo Tetris',\n",
       " 'Quantum Break',\n",
       " 'R.B.I. Baseball 2016',\n",
       " 'Rabbids Invasion: The Interactive TV Show',\n",
       " 'Ragnarok Odyssey',\n",
       " 'Ratchet & Clank Collection',\n",
       " 'Rayman Legends',\n",
       " 'Rayman Origins',\n",
       " 'Remember Me',\n",
       " 'Resident Evil 4 HD',\n",
       " 'Resident Evil 5 HD',\n",
       " 'Resident Evil 6',\n",
       " 'Resident Evil Zero',\n",
       " 'Resident Evil: Operation Raccoon City',\n",
       " 'Resident Evil: Revelations',\n",
       " 'Resident Evil: Revelations 2',\n",
       " 'Ride',\n",
       " 'Ride 2',\n",
       " 'Ride to Hell',\n",
       " 'Ridge Racer Unbounded',\n",
       " 'Rise of the Tomb Raider',\n",
       " 'Risen 2: Dark Waters',\n",
       " 'Risen 3: Titan Lords',\n",
       " 'Robotics;Notes',\n",
       " 'Rock Band 4',\n",
       " 'Rocket League',\n",
       " 'Rocksmith 2014',\n",
       " 'Rocksmith 2014 Edition Remastered',\n",
       " 'Rodea the Sky Soldier',\n",
       " 'Romance of the Three Kingdoms 13',\n",
       " 'Romance of the Three Kingdoms XII',\n",
       " 'Root Letter',\n",
       " 'Rory McIlroy PGA Tour',\n",
       " 'Rugby 15',\n",
       " 'Rugby Challenge 3',\n",
       " 'Rugby League Live 3',\n",
       " 'Rugby World Cup 2015',\n",
       " 'SD Gundam G Generation Genesis',\n",
       " 'SSX',\n",
       " 'Sacred 3',\n",
       " \"Saint Seiya: Soldiers' Soul\",\n",
       " 'Saints Row IV',\n",
       " 'Saints Row: Gat out of Hell',\n",
       " 'Sakura-Sou no Pet na Kanojo',\n",
       " 'Samurai Warriors 4',\n",
       " 'Samurai Warriors 4-II',\n",
       " 'Samurai Warriors 4: Empires',\n",
       " 'Samurai Warriors Chronicles 3',\n",
       " 'Samurai Warriors: Sanada Maru',\n",
       " 'Scribblenauts Unmasked: A DC Comics Adventure',\n",
       " 'Scribblenauts: Unlimited',\n",
       " 'Sengoku Basara 4: Sumeragi',\n",
       " 'Sengoku Basara: Sanada Yukimura-Den',\n",
       " 'Senran Kagura: Estival Versus',\n",
       " 'Sherlock Holmes: Crimes & Punishments',\n",
       " \"Sherlock Holmes: The Devil's Daughter\",\n",
       " 'Shin Hayarigami',\n",
       " 'Shin Hayarigami 2',\n",
       " 'Shovel Knight',\n",
       " 'Silent Hill HD Collection',\n",
       " 'Silent Hill: Downpour',\n",
       " 'Singstar: Ultimate Party',\n",
       " 'Skylanders Giants',\n",
       " 'Skylanders Imaginators',\n",
       " 'Skylanders SWAP Force',\n",
       " 'Skylanders: SuperChargers',\n",
       " 'Skylanders: Trap Team',\n",
       " 'Sleeping Dogs',\n",
       " 'Sly Cooper: Thieves in Time',\n",
       " 'Sniper Elite 3',\n",
       " 'Sniper Elite V2',\n",
       " 'Sniper: Ghost Warrior 2',\n",
       " 'Soccer Tsuku: Pro Soccer Club o Tsukurou!',\n",
       " 'Song of the Deep',\n",
       " 'Sonic & All-Stars Racing Transformed',\n",
       " 'Sonic Lost World',\n",
       " 'SoulCalibur V',\n",
       " 'South Park: The Stick of Truth',\n",
       " 'Spec Ops: The Line',\n",
       " \"SpongeBob SquarePants: Plankton's Robotic Revenge\",\n",
       " 'SpongeBob: HeroPants',\n",
       " 'Star Ocean 5: Integrity and Faithlessness',\n",
       " 'Star Trek: The Game',\n",
       " 'Star Wars Battlefront (2015)',\n",
       " 'Steins;Gate',\n",
       " 'Steins;Gate 0',\n",
       " 'Steins;Gate: Hiyoku Renri no Darling',\n",
       " 'Steins;Gate: Senkei Kousoku no Phonogram',\n",
       " 'Street Fighter V',\n",
       " 'Street Fighter X Tekken',\n",
       " 'Summon Night 6: Lost Borders',\n",
       " 'Super Hero Generation',\n",
       " 'Super Heroine Chronicle',\n",
       " 'Super Robot Taisen OG Saga: Masou Kishin III - Pride of Justice',\n",
       " 'Super Robot Wars OG: The Moon Dwellers',\n",
       " 'Super Smash Bros. for Wii U and 3DS',\n",
       " 'Sword Art Online: Hollow Fragment',\n",
       " 'Sword Art Online: Hollow Realization',\n",
       " 'Sword Art Online: Lost Song',\n",
       " 'Syndicate',\n",
       " 'Sébastien Loeb Rally Evo',\n",
       " 'Tales of Berseria',\n",
       " 'Tales of Zestiria',\n",
       " 'Teenage Mutant Ninja Turtles: Danger of the Ooze',\n",
       " 'Teenage Mutant Ninja Turtles: Mutants in Manhattan',\n",
       " 'Tekken Tag Tournament 2',\n",
       " 'Terraria',\n",
       " 'Test Drive: Ferrari Legends',\n",
       " 'The Amazing Spider-Man (Console Version)',\n",
       " 'The Amazing Spider-Man 2 (2014)',\n",
       " 'The Book of Unwritten Tales 2',\n",
       " 'The Bureau: XCOM Declassified',\n",
       " 'The Crew',\n",
       " 'The Crew: Wild Run',\n",
       " 'The Croods: Prehistoric Party!',\n",
       " 'The Darkness II',\n",
       " 'The Elder Scrolls Online',\n",
       " 'The Elder Scrolls V: Skyrim',\n",
       " 'The Evil Within',\n",
       " 'The Golf Club',\n",
       " 'The LEGO Movie Videogame',\n",
       " 'The Last of Us',\n",
       " 'The Legend of Heroes: Trails in the Sky First Chapter',\n",
       " 'The Legend of Heroes: Trails in the Sky Third Chapter',\n",
       " 'The Legend of Heroes: Trails of Cold Steel',\n",
       " 'The Legend of Heroes: Trails of Cold Steel II',\n",
       " \"The Peanuts Movie: Snoopy's Grand Adventure\",\n",
       " 'The Smurfs 2',\n",
       " 'The Technomancer',\n",
       " 'The Testament of Sherlock Holmes',\n",
       " 'The Voice',\n",
       " 'The Walking Dead: Season One',\n",
       " 'The Walking Dead: Season Two',\n",
       " 'The Walking Dead: Survival Instinct',\n",
       " 'The Witch and the Hundred Knight',\n",
       " 'The Witcher 3: Wild Hunt',\n",
       " 'The Wolf Among Us',\n",
       " 'Thief (2014)',\n",
       " 'Tiger Woods PGA Tour 13',\n",
       " 'Tiger Woods PGA Tour 14',\n",
       " 'Time Travelers',\n",
       " 'Titanfall',\n",
       " 'Titanfall 2',\n",
       " 'Tokyo Twilight Ghost Hunters',\n",
       " \"Tom Clancy's Ghost Recon: Future Soldier\",\n",
       " \"Tom Clancy's Rainbow Six: Siege\",\n",
       " \"Tom Clancy's Splinter Cell: Blacklist\",\n",
       " \"Tom Clancy's The Division\",\n",
       " 'Tomb Raider (2013)',\n",
       " \"Tony Hawk's Pro Skater 5\",\n",
       " 'Top Gun: Hard Lock',\n",
       " 'Toukiden 2',\n",
       " 'Toukiden Kiwami',\n",
       " 'Toukiden: The Age of Demons',\n",
       " 'Tour de France 2014',\n",
       " 'Toy Soldiers: War Chest',\n",
       " 'TrackMania Turbo',\n",
       " 'Transformer: Rise of the Dark Spark',\n",
       " 'Transformers: Devastation',\n",
       " 'Transformers: Fall of Cybertron',\n",
       " 'Transformers: Prime',\n",
       " 'Trials Fusion',\n",
       " 'Tropico 5',\n",
       " 'Turbo: Super Stunt Squad',\n",
       " 'UEFA Euro 2016',\n",
       " 'UFC Undisputed 3',\n",
       " 'UnchainBlades EXXiV',\n",
       " 'Utawarerumono: Futari no Hakuoro',\n",
       " 'Utawarerumono: Itsuwari no Kamen',\n",
       " 'Valentino Rossi: The Game',\n",
       " 'WRC 5: FIA World Rally Championship',\n",
       " \"WWE '13\",\n",
       " 'WWE 2K14',\n",
       " 'WWE 2K15',\n",
       " 'WWE 2K16',\n",
       " 'WWE 2K17',\n",
       " 'Warriors Orochi 3',\n",
       " 'Wasteland 2',\n",
       " 'Watch Dogs',\n",
       " 'Watch Dogs 2',\n",
       " 'White Album 2: Shiawase no Mukougawa',\n",
       " 'Winning Post 7 2012',\n",
       " 'Winning Post 7 2013',\n",
       " 'Winning Post 8 ',\n",
       " 'Winning Post 8 2015',\n",
       " 'Winning Post 8 2016',\n",
       " 'WipeOut 3 The Game',\n",
       " 'Wolfenstein: The New Order',\n",
       " 'Wolfenstein: The Old Blood',\n",
       " 'World of Final Fantasy',\n",
       " 'Worms: WMD',\n",
       " 'XBLAZE Code: Embryo',\n",
       " 'XCOM 2',\n",
       " 'XCOM: Enemy Unknown',\n",
       " 'Xblaze: Lost Memories',\n",
       " 'Yaiba: Ninja Gaiden Z',\n",
       " 'Yakuza Kiwami',\n",
       " 'Yakuza Zero: The Place of Oath',\n",
       " 'Yakuza: Ishin',\n",
       " 'Yoru no Nai Kuni',\n",
       " 'Young Justice: Legacy',\n",
       " 'Zero Escape: Zero Time Dilemma',\n",
       " 'ZombiU',\n",
       " 'Zombie Army Trilogy',\n",
       " 'Zone of the Enders HD Collection',\n",
       " 'Zoo Tycoon (2013)',\n",
       " 'Zumba Fitness Core',\n",
       " 'Zumba Fitness: World Party',\n",
       " '[Prototype 2]']"
      ]
     },
     "execution_count": 30,
     "metadata": {},
     "output_type": "execute_result"
    }
   ],
   "source": [
    "#Se crea una lista de los juegos que se encuentra en mas de una plataforma\n",
    "\n",
    "cross_platf_games = list(games_new.groupby(\"name\")[\"platform\"].nunique().reset_index().query(\"platform > 1\")[\"name\"])\n",
    "cross_platf_games"
   ]
  },
  {
   "cell_type": "code",
   "execution_count": 31,
   "metadata": {
    "scrolled": false
   },
   "outputs": [
    {
     "data": {
      "text/html": [
       "<div>\n",
       "<style scoped>\n",
       "    .dataframe tbody tr th:only-of-type {\n",
       "        vertical-align: middle;\n",
       "    }\n",
       "\n",
       "    .dataframe tbody tr th {\n",
       "        vertical-align: top;\n",
       "    }\n",
       "\n",
       "    .dataframe thead th {\n",
       "        text-align: right;\n",
       "    }\n",
       "</style>\n",
       "<table border=\"1\" class=\"dataframe\">\n",
       "  <thead>\n",
       "    <tr style=\"text-align: right;\">\n",
       "      <th></th>\n",
       "      <th>name</th>\n",
       "      <th>platform</th>\n",
       "      <th>total_sales</th>\n",
       "    </tr>\n",
       "  </thead>\n",
       "  <tbody>\n",
       "    <tr>\n",
       "      <th>950</th>\n",
       "      <td>Grand Theft Auto V</td>\n",
       "      <td>PS3</td>\n",
       "      <td>21.05</td>\n",
       "    </tr>\n",
       "    <tr>\n",
       "      <th>952</th>\n",
       "      <td>Grand Theft Auto V</td>\n",
       "      <td>X360</td>\n",
       "      <td>16.27</td>\n",
       "    </tr>\n",
       "    <tr>\n",
       "      <th>320</th>\n",
       "      <td>Call of Duty: Black Ops 3</td>\n",
       "      <td>PS4</td>\n",
       "      <td>14.63</td>\n",
       "    </tr>\n",
       "    <tr>\n",
       "      <th>324</th>\n",
       "      <td>Call of Duty: Black Ops II</td>\n",
       "      <td>PS3</td>\n",
       "      <td>13.79</td>\n",
       "    </tr>\n",
       "    <tr>\n",
       "      <th>326</th>\n",
       "      <td>Call of Duty: Black Ops II</td>\n",
       "      <td>X360</td>\n",
       "      <td>13.68</td>\n",
       "    </tr>\n",
       "    <tr>\n",
       "      <th>951</th>\n",
       "      <td>Grand Theft Auto V</td>\n",
       "      <td>PS4</td>\n",
       "      <td>12.62</td>\n",
       "    </tr>\n",
       "    <tr>\n",
       "      <th>331</th>\n",
       "      <td>Call of Duty: Ghosts</td>\n",
       "      <td>X360</td>\n",
       "      <td>10.24</td>\n",
       "    </tr>\n",
       "    <tr>\n",
       "      <th>328</th>\n",
       "      <td>Call of Duty: Ghosts</td>\n",
       "      <td>PS3</td>\n",
       "      <td>9.36</td>\n",
       "    </tr>\n",
       "    <tr>\n",
       "      <th>1510</th>\n",
       "      <td>Minecraft</td>\n",
       "      <td>X360</td>\n",
       "      <td>9.18</td>\n",
       "    </tr>\n",
       "  </tbody>\n",
       "</table>\n",
       "</div>"
      ],
      "text/plain": [
       "                            name platform  total_sales\n",
       "950           Grand Theft Auto V      PS3        21.05\n",
       "952           Grand Theft Auto V     X360        16.27\n",
       "320    Call of Duty: Black Ops 3      PS4        14.63\n",
       "324   Call of Duty: Black Ops II      PS3        13.79\n",
       "326   Call of Duty: Black Ops II     X360        13.68\n",
       "951           Grand Theft Auto V      PS4        12.62\n",
       "331         Call of Duty: Ghosts     X360        10.24\n",
       "328         Call of Duty: Ghosts      PS3         9.36\n",
       "1510                   Minecraft     X360         9.18"
      ]
     },
     "execution_count": 31,
     "metadata": {},
     "output_type": "execute_result"
    }
   ],
   "source": [
    "#Agrupamamos por nombre, plataforma y ademas que se encuentre en la lista creada 'cross_platf_games'\n",
    "\n",
    "df_games=games_new.groupby(['name', 'platform'])['total_sales'].sum().reset_index().sort_values(by = 'total_sales',\n",
    "                                                                                                ascending= False).query('name in @cross_platf_games')\n",
    "df_games1=df_games[df_games['total_sales']>9]\n",
    "df_games1"
   ]
  },
  {
   "cell_type": "code",
   "execution_count": 32,
   "metadata": {},
   "outputs": [
    {
     "data": {
      "text/html": [
       "<div>\n",
       "<style scoped>\n",
       "    .dataframe tbody tr th:only-of-type {\n",
       "        vertical-align: middle;\n",
       "    }\n",
       "\n",
       "    .dataframe tbody tr th {\n",
       "        vertical-align: top;\n",
       "    }\n",
       "\n",
       "    .dataframe thead th {\n",
       "        text-align: right;\n",
       "    }\n",
       "</style>\n",
       "<table border=\"1\" class=\"dataframe\">\n",
       "  <thead>\n",
       "    <tr style=\"text-align: right;\">\n",
       "      <th></th>\n",
       "      <th>name</th>\n",
       "      <th>total_sales</th>\n",
       "    </tr>\n",
       "  </thead>\n",
       "  <tbody>\n",
       "    <tr>\n",
       "      <th>0</th>\n",
       "      <td>Frozen: Olaf's Quest</td>\n",
       "      <td>0.003200</td>\n",
       "    </tr>\n",
       "    <tr>\n",
       "      <th>1</th>\n",
       "      <td>2014 FIFA World Cup Brazil</td>\n",
       "      <td>0.016200</td>\n",
       "    </tr>\n",
       "    <tr>\n",
       "      <th>2</th>\n",
       "      <td>3rd Super Robot Wars Z Jigoku Hen</td>\n",
       "      <td>0.000800</td>\n",
       "    </tr>\n",
       "    <tr>\n",
       "      <th>3</th>\n",
       "      <td>3rd Super Robot Wars Z: Tengoku-Hen</td>\n",
       "      <td>0.000800</td>\n",
       "    </tr>\n",
       "    <tr>\n",
       "      <th>4</th>\n",
       "      <td>7 Days to Die</td>\n",
       "      <td>0.004050</td>\n",
       "    </tr>\n",
       "    <tr>\n",
       "      <th>5</th>\n",
       "      <td>AKB1/149: Love Election</td>\n",
       "      <td>0.008033</td>\n",
       "    </tr>\n",
       "  </tbody>\n",
       "</table>\n",
       "</div>"
      ],
      "text/plain": [
       "                                  name  total_sales\n",
       "0                 Frozen: Olaf's Quest     0.003200\n",
       "1           2014 FIFA World Cup Brazil     0.016200\n",
       "2    3rd Super Robot Wars Z Jigoku Hen     0.000800\n",
       "3  3rd Super Robot Wars Z: Tengoku-Hen     0.000800\n",
       "4                        7 Days to Die     0.004050\n",
       "5              AKB1/149: Love Election     0.008033"
      ]
     },
     "execution_count": 32,
     "metadata": {},
     "output_type": "execute_result"
    }
   ],
   "source": [
    "#varianza\n",
    "\n",
    "df_games.groupby('name')['total_sales'].var().reset_index().head(6)"
   ]
  },
  {
   "cell_type": "code",
   "execution_count": 33,
   "metadata": {},
   "outputs": [
    {
     "data": {
      "text/html": [
       "<div>\n",
       "<style scoped>\n",
       "    .dataframe tbody tr th:only-of-type {\n",
       "        vertical-align: middle;\n",
       "    }\n",
       "\n",
       "    .dataframe tbody tr th {\n",
       "        vertical-align: top;\n",
       "    }\n",
       "\n",
       "    .dataframe thead th {\n",
       "        text-align: right;\n",
       "    }\n",
       "</style>\n",
       "<table border=\"1\" class=\"dataframe\">\n",
       "  <thead>\n",
       "    <tr style=\"text-align: right;\">\n",
       "      <th></th>\n",
       "      <th>name</th>\n",
       "      <th>total_sales</th>\n",
       "    </tr>\n",
       "  </thead>\n",
       "  <tbody>\n",
       "    <tr>\n",
       "      <th>0</th>\n",
       "      <td>Frozen: Olaf's Quest</td>\n",
       "      <td>0.056569</td>\n",
       "    </tr>\n",
       "    <tr>\n",
       "      <th>1</th>\n",
       "      <td>2014 FIFA World Cup Brazil</td>\n",
       "      <td>0.127279</td>\n",
       "    </tr>\n",
       "    <tr>\n",
       "      <th>2</th>\n",
       "      <td>3rd Super Robot Wars Z Jigoku Hen</td>\n",
       "      <td>0.028284</td>\n",
       "    </tr>\n",
       "    <tr>\n",
       "      <th>3</th>\n",
       "      <td>3rd Super Robot Wars Z: Tengoku-Hen</td>\n",
       "      <td>0.028284</td>\n",
       "    </tr>\n",
       "    <tr>\n",
       "      <th>4</th>\n",
       "      <td>7 Days to Die</td>\n",
       "      <td>0.063640</td>\n",
       "    </tr>\n",
       "    <tr>\n",
       "      <th>5</th>\n",
       "      <td>AKB1/149: Love Election</td>\n",
       "      <td>0.089629</td>\n",
       "    </tr>\n",
       "  </tbody>\n",
       "</table>\n",
       "</div>"
      ],
      "text/plain": [
       "                                  name  total_sales\n",
       "0                 Frozen: Olaf's Quest     0.056569\n",
       "1           2014 FIFA World Cup Brazil     0.127279\n",
       "2    3rd Super Robot Wars Z Jigoku Hen     0.028284\n",
       "3  3rd Super Robot Wars Z: Tengoku-Hen     0.028284\n",
       "4                        7 Days to Die     0.063640\n",
       "5              AKB1/149: Love Election     0.089629"
      ]
     },
     "execution_count": 33,
     "metadata": {},
     "output_type": "execute_result"
    }
   ],
   "source": [
    "#desviación estándar\n",
    "\n",
    "df_games.groupby('name')['total_sales'].std().reset_index().head(6)"
   ]
  },
  {
   "cell_type": "code",
   "execution_count": 34,
   "metadata": {},
   "outputs": [
    {
     "data": {
      "text/html": [
       "<div>\n",
       "<style scoped>\n",
       "    .dataframe tbody tr th:only-of-type {\n",
       "        vertical-align: middle;\n",
       "    }\n",
       "\n",
       "    .dataframe tbody tr th {\n",
       "        vertical-align: top;\n",
       "    }\n",
       "\n",
       "    .dataframe thead th {\n",
       "        text-align: right;\n",
       "    }\n",
       "</style>\n",
       "<table border=\"1\" class=\"dataframe\">\n",
       "  <thead>\n",
       "    <tr style=\"text-align: right;\">\n",
       "      <th>platform</th>\n",
       "      <th>PS3</th>\n",
       "      <th>PS4</th>\n",
       "      <th>X360</th>\n",
       "    </tr>\n",
       "    <tr>\n",
       "      <th>name</th>\n",
       "      <th></th>\n",
       "      <th></th>\n",
       "      <th></th>\n",
       "    </tr>\n",
       "  </thead>\n",
       "  <tbody>\n",
       "    <tr>\n",
       "      <th>Call of Duty: Black Ops 3</th>\n",
       "      <td>NaN</td>\n",
       "      <td>14.63</td>\n",
       "      <td>NaN</td>\n",
       "    </tr>\n",
       "    <tr>\n",
       "      <th>Call of Duty: Black Ops II</th>\n",
       "      <td>13.79</td>\n",
       "      <td>NaN</td>\n",
       "      <td>13.68</td>\n",
       "    </tr>\n",
       "    <tr>\n",
       "      <th>Call of Duty: Ghosts</th>\n",
       "      <td>9.36</td>\n",
       "      <td>NaN</td>\n",
       "      <td>10.24</td>\n",
       "    </tr>\n",
       "    <tr>\n",
       "      <th>Grand Theft Auto V</th>\n",
       "      <td>21.05</td>\n",
       "      <td>12.62</td>\n",
       "      <td>16.27</td>\n",
       "    </tr>\n",
       "    <tr>\n",
       "      <th>Minecraft</th>\n",
       "      <td>NaN</td>\n",
       "      <td>NaN</td>\n",
       "      <td>9.18</td>\n",
       "    </tr>\n",
       "  </tbody>\n",
       "</table>\n",
       "</div>"
      ],
      "text/plain": [
       "platform                      PS3    PS4   X360\n",
       "name                                           \n",
       "Call of Duty: Black Ops 3     NaN  14.63    NaN\n",
       "Call of Duty: Black Ops II  13.79    NaN  13.68\n",
       "Call of Duty: Ghosts         9.36    NaN  10.24\n",
       "Grand Theft Auto V          21.05  12.62  16.27\n",
       "Minecraft                     NaN    NaN   9.18"
      ]
     },
     "execution_count": 34,
     "metadata": {},
     "output_type": "execute_result"
    }
   ],
   "source": [
    "#Se contruye un DF\n",
    "\n",
    "df_games_grap=df_games1.pivot(index = 'name', columns = 'platform', values = 'total_sales')\n",
    "df_games_grap"
   ]
  },
  {
   "cell_type": "code",
   "execution_count": 35,
   "metadata": {},
   "outputs": [
    {
     "data": {
      "image/png": "[encoded data removed]",
      "text/plain": [
       "<Figure size 1080x432 with 1 Axes>"
      ]
     },
     "metadata": {
      "needs_background": "light"
     },
     "output_type": "display_data"
    }
   ],
   "source": [
    "#grafico de barras que compara las ventas respecto a la plataforma utilizada\n",
    "\n",
    "df_games_grap.plot(kind='bar', figsize = [15, 6])\n",
    "plt.show()"
   ]
  },
  {
   "cell_type": "markdown",
   "metadata": {},
   "source": [
    "Se observa que la venta varía en algunos juegos de acuerdo a la plataforma, se colocó desde 9m las ventas por plataforma para no saturar la grafica."
   ]
  },
  {
   "cell_type": "markdown",
   "metadata": {},
   "source": [
    "## Género del juego"
   ]
  },
  {
   "cell_type": "code",
   "execution_count": 36,
   "metadata": {},
   "outputs": [
    {
     "data": {
      "text/html": [
       "<div>\n",
       "<style scoped>\n",
       "    .dataframe tbody tr th:only-of-type {\n",
       "        vertical-align: middle;\n",
       "    }\n",
       "\n",
       "    .dataframe tbody tr th {\n",
       "        vertical-align: top;\n",
       "    }\n",
       "\n",
       "    .dataframe thead th {\n",
       "        text-align: right;\n",
       "    }\n",
       "</style>\n",
       "<table border=\"1\" class=\"dataframe\">\n",
       "  <thead>\n",
       "    <tr style=\"text-align: right;\">\n",
       "      <th></th>\n",
       "      <th>genre</th>\n",
       "      <th>total_sales</th>\n",
       "    </tr>\n",
       "  </thead>\n",
       "  <tbody>\n",
       "    <tr>\n",
       "      <th>0</th>\n",
       "      <td>Action</td>\n",
       "      <td>441.12</td>\n",
       "    </tr>\n",
       "    <tr>\n",
       "      <th>8</th>\n",
       "      <td>Shooter</td>\n",
       "      <td>304.73</td>\n",
       "    </tr>\n",
       "    <tr>\n",
       "      <th>7</th>\n",
       "      <td>Role-Playing</td>\n",
       "      <td>192.80</td>\n",
       "    </tr>\n",
       "    <tr>\n",
       "      <th>10</th>\n",
       "      <td>Sports</td>\n",
       "      <td>181.07</td>\n",
       "    </tr>\n",
       "    <tr>\n",
       "      <th>3</th>\n",
       "      <td>Misc</td>\n",
       "      <td>85.04</td>\n",
       "    </tr>\n",
       "    <tr>\n",
       "      <th>4</th>\n",
       "      <td>Platform</td>\n",
       "      <td>61.00</td>\n",
       "    </tr>\n",
       "  </tbody>\n",
       "</table>\n",
       "</div>"
      ],
      "text/plain": [
       "           genre  total_sales\n",
       "0         Action       441.12\n",
       "8        Shooter       304.73\n",
       "7   Role-Playing       192.80\n",
       "10        Sports       181.07\n",
       "3           Misc        85.04\n",
       "4       Platform        61.00"
      ]
     },
     "execution_count": 36,
     "metadata": {},
     "output_type": "execute_result"
    }
   ],
   "source": [
    "#agrupados por género las ventas\n",
    "\n",
    "games_genre=games_new.groupby('genre')['total_sales'].sum().reset_index().sort_values(by = 'total_sales', ascending = False).head(6)\n",
    "games_genre"
   ]
  },
  {
   "cell_type": "code",
   "execution_count": 37,
   "metadata": {},
   "outputs": [
    {
     "data": {
      "text/plain": [
       "['Action', 'Shooter', 'Role-Playing', 'Sports', 'Misc', 'Platform']"
      ]
     },
     "execution_count": 37,
     "metadata": {},
     "output_type": "execute_result"
    }
   ],
   "source": [
    "#lista de los generos mas vendidos\n",
    "\n",
    "games_genre_famous = list(games_genre['genre'])\n",
    "games_genre_famous"
   ]
  },
  {
   "cell_type": "code",
   "execution_count": 38,
   "metadata": {},
   "outputs": [
    {
     "data": {
      "image/png": "[encoded data removed]",
      "text/plain": [
       "<Figure size 576x360 with 1 Axes>"
      ]
     },
     "metadata": {
      "needs_background": "light"
     },
     "output_type": "display_data"
    }
   ],
   "source": [
    "#grafico de barras de las plataformas mas vendidas\n",
    "\n",
    "games_genre.plot(kind = 'bar', x = 'genre', y = 'total_sales', legend = False, figsize = [8,5])\n",
    "plt.show()"
   ]
  },
  {
   "cell_type": "markdown",
   "metadata": {},
   "source": [
    "Los géneros de los juegos mas rentable al parecer son los que les brinda una mayor emoción como acción, carreras, deporte, entre otros. A los usuarios les gusta sentir la adrenalina."
   ]
  },
  {
   "cell_type": "code",
   "execution_count": 39,
   "metadata": {},
   "outputs": [
    {
     "data": {
      "image/png": "[encoded data removed]",
      "text/plain": [
       "<Figure size 1080x1296 with 6 Axes>"
      ]
     },
     "metadata": {
      "needs_background": "light"
     },
     "output_type": "display_data"
    }
   ],
   "source": [
    "#Se realiza un grafico de barras para la venta total para los generos mas populares\n",
    "\n",
    "fig, ax = plt.subplots(ncols=2, nrows=3, figsize= [15, 18])\n",
    "\n",
    "for i, genre in enumerate(games_genre_famous):\n",
    "    \n",
    "    gen = games_new.query('genre in @genre')\n",
    "    \n",
    "    ax.flatten()[i].set_title(f'Ventas totales por género {genre}') #unidimesional\n",
    "    \n",
    "    gen.groupby('year_of_release')['total_sales'].sum().plot(kind = 'bar', ax = ax.flatten()[i])\n",
    "    \n",
    "    fig.subplots_adjust(hspace=0.35)\n"
   ]
  },
  {
   "cell_type": "code",
   "execution_count": 40,
   "metadata": {},
   "outputs": [
    {
     "data": {
      "image/png": "[encoded data removed]",
      "text/plain": [
       "<Figure size 576x360 with 1 Axes>"
      ]
     },
     "metadata": {
      "needs_background": "light"
     },
     "output_type": "display_data"
    }
   ],
   "source": [
    "games_new.query('genre in @games_genre_famous').pivot_table(index = 'year_of_release', columns = 'genre', \n",
    "                                                           values= 'total_sales', aggfunc = 'sum').plot(figsize = [8, 5])\n",
    "plt.show()"
   ]
  },
  {
   "cell_type": "markdown",
   "metadata": {},
   "source": [
    "Se observa que empezó ha haber una caída para los géneros en este año (2016)."
   ]
  },
  {
   "cell_type": "markdown",
   "metadata": {},
   "source": [
    "# Perfil de usuario por región"
   ]
  },
  {
   "cell_type": "markdown",
   "metadata": {},
   "source": [
    "## Plataformas principales"
   ]
  },
  {
   "cell_type": "code",
   "execution_count": 41,
   "metadata": {},
   "outputs": [
    {
     "data": {
      "text/html": [
       "<div>\n",
       "<style scoped>\n",
       "    .dataframe tbody tr th:only-of-type {\n",
       "        vertical-align: middle;\n",
       "    }\n",
       "\n",
       "    .dataframe tbody tr th {\n",
       "        vertical-align: top;\n",
       "    }\n",
       "\n",
       "    .dataframe thead th {\n",
       "        text-align: right;\n",
       "    }\n",
       "</style>\n",
       "<table border=\"1\" class=\"dataframe\">\n",
       "  <thead>\n",
       "    <tr style=\"text-align: right;\">\n",
       "      <th></th>\n",
       "      <th>platform</th>\n",
       "      <th>na_sales</th>\n",
       "      <th>market_share</th>\n",
       "    </tr>\n",
       "  </thead>\n",
       "  <tbody>\n",
       "    <tr>\n",
       "      <th>0</th>\n",
       "      <td>X360</td>\n",
       "      <td>140.05</td>\n",
       "      <td>0.236983</td>\n",
       "    </tr>\n",
       "    <tr>\n",
       "      <th>1</th>\n",
       "      <td>PS4</td>\n",
       "      <td>108.74</td>\n",
       "      <td>0.184003</td>\n",
       "    </tr>\n",
       "    <tr>\n",
       "      <th>2</th>\n",
       "      <td>PS3</td>\n",
       "      <td>103.38</td>\n",
       "      <td>0.174933</td>\n",
       "    </tr>\n",
       "    <tr>\n",
       "      <th>3</th>\n",
       "      <td>XOne</td>\n",
       "      <td>93.12</td>\n",
       "      <td>0.157571</td>\n",
       "    </tr>\n",
       "    <tr>\n",
       "      <th>4</th>\n",
       "      <td>3DS</td>\n",
       "      <td>55.31</td>\n",
       "      <td>0.093592</td>\n",
       "    </tr>\n",
       "  </tbody>\n",
       "</table>\n",
       "</div>"
      ],
      "text/plain": [
       "  platform  na_sales  market_share\n",
       "0     X360    140.05      0.236983\n",
       "1      PS4    108.74      0.184003\n",
       "2      PS3    103.38      0.174933\n",
       "3     XOne     93.12      0.157571\n",
       "4      3DS     55.31      0.093592"
      ]
     },
     "metadata": {},
     "output_type": "display_data"
    },
    {
     "data": {
      "image/png": "[encoded data removed]",
      "text/plain": [
       "<Figure size 432x288 with 1 Axes>"
      ]
     },
     "metadata": {
      "needs_background": "light"
     },
     "output_type": "display_data"
    },
    {
     "data": {
      "text/html": [
       "<div>\n",
       "<style scoped>\n",
       "    .dataframe tbody tr th:only-of-type {\n",
       "        vertical-align: middle;\n",
       "    }\n",
       "\n",
       "    .dataframe tbody tr th {\n",
       "        vertical-align: top;\n",
       "    }\n",
       "\n",
       "    .dataframe thead th {\n",
       "        text-align: right;\n",
       "    }\n",
       "</style>\n",
       "<table border=\"1\" class=\"dataframe\">\n",
       "  <thead>\n",
       "    <tr style=\"text-align: right;\">\n",
       "      <th></th>\n",
       "      <th>platform</th>\n",
       "      <th>eu_sales</th>\n",
       "      <th>market_share</th>\n",
       "    </tr>\n",
       "  </thead>\n",
       "  <tbody>\n",
       "    <tr>\n",
       "      <th>0</th>\n",
       "      <td>PS4</td>\n",
       "      <td>141.09</td>\n",
       "      <td>0.278383</td>\n",
       "    </tr>\n",
       "    <tr>\n",
       "      <th>1</th>\n",
       "      <td>PS3</td>\n",
       "      <td>106.86</td>\n",
       "      <td>0.210844</td>\n",
       "    </tr>\n",
       "    <tr>\n",
       "      <th>2</th>\n",
       "      <td>X360</td>\n",
       "      <td>74.52</td>\n",
       "      <td>0.147034</td>\n",
       "    </tr>\n",
       "    <tr>\n",
       "      <th>3</th>\n",
       "      <td>XOne</td>\n",
       "      <td>51.59</td>\n",
       "      <td>0.101792</td>\n",
       "    </tr>\n",
       "    <tr>\n",
       "      <th>4</th>\n",
       "      <td>3DS</td>\n",
       "      <td>42.64</td>\n",
       "      <td>0.084132</td>\n",
       "    </tr>\n",
       "  </tbody>\n",
       "</table>\n",
       "</div>"
      ],
      "text/plain": [
       "  platform  eu_sales  market_share\n",
       "0      PS4    141.09      0.278383\n",
       "1      PS3    106.86      0.210844\n",
       "2     X360     74.52      0.147034\n",
       "3     XOne     51.59      0.101792\n",
       "4      3DS     42.64      0.084132"
      ]
     },
     "metadata": {},
     "output_type": "display_data"
    },
    {
     "data": {
      "image/png": "[encoded data removed]",
      "text/plain": [
       "<Figure size 432x288 with 1 Axes>"
      ]
     },
     "metadata": {
      "needs_background": "light"
     },
     "output_type": "display_data"
    },
    {
     "data": {
      "text/html": [
       "<div>\n",
       "<style scoped>\n",
       "    .dataframe tbody tr th:only-of-type {\n",
       "        vertical-align: middle;\n",
       "    }\n",
       "\n",
       "    .dataframe tbody tr th {\n",
       "        vertical-align: top;\n",
       "    }\n",
       "\n",
       "    .dataframe thead th {\n",
       "        text-align: right;\n",
       "    }\n",
       "</style>\n",
       "<table border=\"1\" class=\"dataframe\">\n",
       "  <thead>\n",
       "    <tr style=\"text-align: right;\">\n",
       "      <th></th>\n",
       "      <th>platform</th>\n",
       "      <th>jp_sales</th>\n",
       "      <th>market_share</th>\n",
       "    </tr>\n",
       "  </thead>\n",
       "  <tbody>\n",
       "    <tr>\n",
       "      <th>0</th>\n",
       "      <td>3DS</td>\n",
       "      <td>87.79</td>\n",
       "      <td>0.455862</td>\n",
       "    </tr>\n",
       "    <tr>\n",
       "      <th>1</th>\n",
       "      <td>PS3</td>\n",
       "      <td>35.29</td>\n",
       "      <td>0.183249</td>\n",
       "    </tr>\n",
       "    <tr>\n",
       "      <th>2</th>\n",
       "      <td>PSV</td>\n",
       "      <td>21.04</td>\n",
       "      <td>0.109253</td>\n",
       "    </tr>\n",
       "    <tr>\n",
       "      <th>3</th>\n",
       "      <td>PS4</td>\n",
       "      <td>15.96</td>\n",
       "      <td>0.082875</td>\n",
       "    </tr>\n",
       "    <tr>\n",
       "      <th>4</th>\n",
       "      <td>WiiU</td>\n",
       "      <td>13.01</td>\n",
       "      <td>0.067556</td>\n",
       "    </tr>\n",
       "  </tbody>\n",
       "</table>\n",
       "</div>"
      ],
      "text/plain": [
       "  platform  jp_sales  market_share\n",
       "0      3DS     87.79      0.455862\n",
       "1      PS3     35.29      0.183249\n",
       "2      PSV     21.04      0.109253\n",
       "3      PS4     15.96      0.082875\n",
       "4     WiiU     13.01      0.067556"
      ]
     },
     "metadata": {},
     "output_type": "display_data"
    },
    {
     "data": {
      "image/png": "[encoded data removed]",
      "text/plain": [
       "<Figure size 432x288 with 1 Axes>"
      ]
     },
     "metadata": {
      "needs_background": "light"
     },
     "output_type": "display_data"
    }
   ],
   "source": [
    "#Organizamos plataformas populares usadas por region\n",
    "\n",
    "regions = ['na_sales', 'eu_sales', 'jp_sales']\n",
    "\n",
    "for region in regions:\n",
    "    #agrupado por plataforma\n",
    "    sale_platf = games_new.groupby('platform')[region].sum().sort_values(ascending = False).reset_index() \n",
    "    sale_platf['market_share'] = sale_platf[region]/sale_platf[region].sum() #porcentaje del mercado\n",
    "    \n",
    "    sale_platf_fam = sale_platf.head(5) #top 5\n",
    "    display(sale_platf_fam)\n",
    "    \n",
    "    sale_platf_fam.plot(x = 'platform', y = 'market_share', kind = 'bar')\n",
    "    plt.show()\n",
    "    "
   ]
  },
  {
   "cell_type": "markdown",
   "metadata": {},
   "source": [
    "Las variaciones de la cuotas de mercado entre regiones varia entre el 4% y 18% entre las primeras posiciones con diferentes plataformas en las regiones. Por otra parte, se observa que en las 3 regiones la *PS3* se mantiene con un aproximado de 19% de posició en el mercado."
   ]
  },
  {
   "cell_type": "markdown",
   "metadata": {},
   "source": [
    "## Géneros principales"
   ]
  },
  {
   "cell_type": "code",
   "execution_count": 42,
   "metadata": {},
   "outputs": [
    {
     "data": {
      "text/html": [
       "<div>\n",
       "<style scoped>\n",
       "    .dataframe tbody tr th:only-of-type {\n",
       "        vertical-align: middle;\n",
       "    }\n",
       "\n",
       "    .dataframe tbody tr th {\n",
       "        vertical-align: top;\n",
       "    }\n",
       "\n",
       "    .dataframe thead th {\n",
       "        text-align: right;\n",
       "    }\n",
       "</style>\n",
       "<table border=\"1\" class=\"dataframe\">\n",
       "  <thead>\n",
       "    <tr style=\"text-align: right;\">\n",
       "      <th></th>\n",
       "      <th>genre</th>\n",
       "      <th>na_sales</th>\n",
       "    </tr>\n",
       "  </thead>\n",
       "  <tbody>\n",
       "    <tr>\n",
       "      <th>0</th>\n",
       "      <td>Action</td>\n",
       "      <td>177.84</td>\n",
       "    </tr>\n",
       "    <tr>\n",
       "      <th>1</th>\n",
       "      <td>Shooter</td>\n",
       "      <td>144.77</td>\n",
       "    </tr>\n",
       "    <tr>\n",
       "      <th>2</th>\n",
       "      <td>Sports</td>\n",
       "      <td>81.53</td>\n",
       "    </tr>\n",
       "    <tr>\n",
       "      <th>3</th>\n",
       "      <td>Role-Playing</td>\n",
       "      <td>64.00</td>\n",
       "    </tr>\n",
       "    <tr>\n",
       "      <th>4</th>\n",
       "      <td>Misc</td>\n",
       "      <td>38.19</td>\n",
       "    </tr>\n",
       "  </tbody>\n",
       "</table>\n",
       "</div>"
      ],
      "text/plain": [
       "          genre  na_sales\n",
       "0        Action    177.84\n",
       "1       Shooter    144.77\n",
       "2        Sports     81.53\n",
       "3  Role-Playing     64.00\n",
       "4          Misc     38.19"
      ]
     },
     "metadata": {},
     "output_type": "display_data"
    },
    {
     "data": {
      "image/png": "[encoded data removed]",
      "text/plain": [
       "<Figure size 432x288 with 1 Axes>"
      ]
     },
     "metadata": {
      "needs_background": "light"
     },
     "output_type": "display_data"
    },
    {
     "data": {
      "text/html": [
       "<div>\n",
       "<style scoped>\n",
       "    .dataframe tbody tr th:only-of-type {\n",
       "        vertical-align: middle;\n",
       "    }\n",
       "\n",
       "    .dataframe tbody tr th {\n",
       "        vertical-align: top;\n",
       "    }\n",
       "\n",
       "    .dataframe thead th {\n",
       "        text-align: right;\n",
       "    }\n",
       "</style>\n",
       "<table border=\"1\" class=\"dataframe\">\n",
       "  <thead>\n",
       "    <tr style=\"text-align: right;\">\n",
       "      <th></th>\n",
       "      <th>genre</th>\n",
       "      <th>eu_sales</th>\n",
       "    </tr>\n",
       "  </thead>\n",
       "  <tbody>\n",
       "    <tr>\n",
       "      <th>0</th>\n",
       "      <td>Action</td>\n",
       "      <td>159.34</td>\n",
       "    </tr>\n",
       "    <tr>\n",
       "      <th>1</th>\n",
       "      <td>Shooter</td>\n",
       "      <td>113.47</td>\n",
       "    </tr>\n",
       "    <tr>\n",
       "      <th>2</th>\n",
       "      <td>Sports</td>\n",
       "      <td>69.09</td>\n",
       "    </tr>\n",
       "    <tr>\n",
       "      <th>3</th>\n",
       "      <td>Role-Playing</td>\n",
       "      <td>48.53</td>\n",
       "    </tr>\n",
       "    <tr>\n",
       "      <th>4</th>\n",
       "      <td>Racing</td>\n",
       "      <td>27.29</td>\n",
       "    </tr>\n",
       "  </tbody>\n",
       "</table>\n",
       "</div>"
      ],
      "text/plain": [
       "          genre  eu_sales\n",
       "0        Action    159.34\n",
       "1       Shooter    113.47\n",
       "2        Sports     69.09\n",
       "3  Role-Playing     48.53\n",
       "4        Racing     27.29"
      ]
     },
     "metadata": {},
     "output_type": "display_data"
    },
    {
     "data": {
      "image/png": "[encoded data removed]",
      "text/plain": [
       "<Figure size 432x288 with 1 Axes>"
      ]
     },
     "metadata": {
      "needs_background": "light"
     },
     "output_type": "display_data"
    },
    {
     "data": {
      "text/html": [
       "<div>\n",
       "<style scoped>\n",
       "    .dataframe tbody tr th:only-of-type {\n",
       "        vertical-align: middle;\n",
       "    }\n",
       "\n",
       "    .dataframe tbody tr th {\n",
       "        vertical-align: top;\n",
       "    }\n",
       "\n",
       "    .dataframe thead th {\n",
       "        text-align: right;\n",
       "    }\n",
       "</style>\n",
       "<table border=\"1\" class=\"dataframe\">\n",
       "  <thead>\n",
       "    <tr style=\"text-align: right;\">\n",
       "      <th></th>\n",
       "      <th>genre</th>\n",
       "      <th>jp_sales</th>\n",
       "    </tr>\n",
       "  </thead>\n",
       "  <tbody>\n",
       "    <tr>\n",
       "      <th>0</th>\n",
       "      <td>Role-Playing</td>\n",
       "      <td>65.44</td>\n",
       "    </tr>\n",
       "    <tr>\n",
       "      <th>1</th>\n",
       "      <td>Action</td>\n",
       "      <td>52.80</td>\n",
       "    </tr>\n",
       "    <tr>\n",
       "      <th>2</th>\n",
       "      <td>Misc</td>\n",
       "      <td>12.86</td>\n",
       "    </tr>\n",
       "    <tr>\n",
       "      <th>3</th>\n",
       "      <td>Simulation</td>\n",
       "      <td>10.41</td>\n",
       "    </tr>\n",
       "    <tr>\n",
       "      <th>4</th>\n",
       "      <td>Fighting</td>\n",
       "      <td>9.44</td>\n",
       "    </tr>\n",
       "  </tbody>\n",
       "</table>\n",
       "</div>"
      ],
      "text/plain": [
       "          genre  jp_sales\n",
       "0  Role-Playing     65.44\n",
       "1        Action     52.80\n",
       "2          Misc     12.86\n",
       "3    Simulation     10.41\n",
       "4      Fighting      9.44"
      ]
     },
     "metadata": {},
     "output_type": "display_data"
    },
    {
     "data": {
      "image/png": "[encoded data removed]",
      "text/plain": [
       "<Figure size 432x288 with 1 Axes>"
      ]
     },
     "metadata": {
      "needs_background": "light"
     },
     "output_type": "display_data"
    }
   ],
   "source": [
    "#Organizamos géneros populares por region\n",
    "\n",
    "regions = ['na_sales', 'eu_sales', 'jp_sales']\n",
    "\n",
    "for region in regions:\n",
    "    sale_genr = games_new.groupby('genre')[region].sum().sort_values(ascending = False).reset_index()\n",
    "    \n",
    "    sale_genr_fam = sale_genr.head(5)\n",
    "    display(sale_genr_fam)\n",
    "    \n",
    "    sale_genr_fam.plot(x = 'genre', kind = 'bar')\n",
    "    plt.show()\n",
    "    "
   ]
  },
  {
   "cell_type": "markdown",
   "metadata": {},
   "source": [
    "En Norteamenica y Europa se prefieren los juegos de acción, deporte y disparo. Mientras que en Japón se prefiere juego de roles en primer lugar, seguido por accion, misceláneas y simulaciones. \n"
   ]
  },
  {
   "cell_type": "markdown",
   "metadata": {},
   "source": [
    "## Clasificaciones (Rating)"
   ]
  },
  {
   "cell_type": "code",
   "execution_count": 43,
   "metadata": {},
   "outputs": [
    {
     "data": {
      "text/html": [
       "<div>\n",
       "<style scoped>\n",
       "    .dataframe tbody tr th:only-of-type {\n",
       "        vertical-align: middle;\n",
       "    }\n",
       "\n",
       "    .dataframe tbody tr th {\n",
       "        vertical-align: top;\n",
       "    }\n",
       "\n",
       "    .dataframe thead th {\n",
       "        text-align: right;\n",
       "    }\n",
       "</style>\n",
       "<table border=\"1\" class=\"dataframe\">\n",
       "  <thead>\n",
       "    <tr style=\"text-align: right;\">\n",
       "      <th></th>\n",
       "      <th>rating</th>\n",
       "      <th>na_sales</th>\n",
       "    </tr>\n",
       "  </thead>\n",
       "  <tbody>\n",
       "    <tr>\n",
       "      <th>0</th>\n",
       "      <td>M</td>\n",
       "      <td>231.57</td>\n",
       "    </tr>\n",
       "    <tr>\n",
       "      <th>1</th>\n",
       "      <td>E</td>\n",
       "      <td>114.37</td>\n",
       "    </tr>\n",
       "    <tr>\n",
       "      <th>2</th>\n",
       "      <td>E10+</td>\n",
       "      <td>75.70</td>\n",
       "    </tr>\n",
       "    <tr>\n",
       "      <th>3</th>\n",
       "      <td>T</td>\n",
       "      <td>66.02</td>\n",
       "    </tr>\n",
       "  </tbody>\n",
       "</table>\n",
       "</div>"
      ],
      "text/plain": [
       "  rating  na_sales\n",
       "0      M    231.57\n",
       "1      E    114.37\n",
       "2   E10+     75.70\n",
       "3      T     66.02"
      ]
     },
     "metadata": {},
     "output_type": "display_data"
    },
    {
     "data": {
      "image/png": "[encoded data removed]",
      "text/plain": [
       "<Figure size 432x288 with 1 Axes>"
      ]
     },
     "metadata": {
      "needs_background": "light"
     },
     "output_type": "display_data"
    },
    {
     "data": {
      "text/html": [
       "<div>\n",
       "<style scoped>\n",
       "    .dataframe tbody tr th:only-of-type {\n",
       "        vertical-align: middle;\n",
       "    }\n",
       "\n",
       "    .dataframe tbody tr th {\n",
       "        vertical-align: top;\n",
       "    }\n",
       "\n",
       "    .dataframe thead th {\n",
       "        text-align: right;\n",
       "    }\n",
       "</style>\n",
       "<table border=\"1\" class=\"dataframe\">\n",
       "  <thead>\n",
       "    <tr style=\"text-align: right;\">\n",
       "      <th></th>\n",
       "      <th>rating</th>\n",
       "      <th>eu_sales</th>\n",
       "    </tr>\n",
       "  </thead>\n",
       "  <tbody>\n",
       "    <tr>\n",
       "      <th>0</th>\n",
       "      <td>M</td>\n",
       "      <td>193.96</td>\n",
       "    </tr>\n",
       "    <tr>\n",
       "      <th>1</th>\n",
       "      <td>E</td>\n",
       "      <td>113.03</td>\n",
       "    </tr>\n",
       "    <tr>\n",
       "      <th>2</th>\n",
       "      <td>E10+</td>\n",
       "      <td>55.37</td>\n",
       "    </tr>\n",
       "    <tr>\n",
       "      <th>3</th>\n",
       "      <td>T</td>\n",
       "      <td>52.96</td>\n",
       "    </tr>\n",
       "  </tbody>\n",
       "</table>\n",
       "</div>"
      ],
      "text/plain": [
       "  rating  eu_sales\n",
       "0      M    193.96\n",
       "1      E    113.03\n",
       "2   E10+     55.37\n",
       "3      T     52.96"
      ]
     },
     "metadata": {},
     "output_type": "display_data"
    },
    {
     "data": {
      "image/png": "[encoded data removed]",
      "text/plain": [
       "<Figure size 432x288 with 1 Axes>"
      ]
     },
     "metadata": {
      "needs_background": "light"
     },
     "output_type": "display_data"
    },
    {
     "data": {
      "text/html": [
       "<div>\n",
       "<style scoped>\n",
       "    .dataframe tbody tr th:only-of-type {\n",
       "        vertical-align: middle;\n",
       "    }\n",
       "\n",
       "    .dataframe tbody tr th {\n",
       "        vertical-align: top;\n",
       "    }\n",
       "\n",
       "    .dataframe thead th {\n",
       "        text-align: right;\n",
       "    }\n",
       "</style>\n",
       "<table border=\"1\" class=\"dataframe\">\n",
       "  <thead>\n",
       "    <tr style=\"text-align: right;\">\n",
       "      <th></th>\n",
       "      <th>rating</th>\n",
       "      <th>jp_sales</th>\n",
       "    </tr>\n",
       "  </thead>\n",
       "  <tbody>\n",
       "    <tr>\n",
       "      <th>0</th>\n",
       "      <td>E</td>\n",
       "      <td>28.33</td>\n",
       "    </tr>\n",
       "    <tr>\n",
       "      <th>1</th>\n",
       "      <td>T</td>\n",
       "      <td>26.02</td>\n",
       "    </tr>\n",
       "    <tr>\n",
       "      <th>2</th>\n",
       "      <td>M</td>\n",
       "      <td>21.20</td>\n",
       "    </tr>\n",
       "    <tr>\n",
       "      <th>3</th>\n",
       "      <td>E10+</td>\n",
       "      <td>8.19</td>\n",
       "    </tr>\n",
       "  </tbody>\n",
       "</table>\n",
       "</div>"
      ],
      "text/plain": [
       "  rating  jp_sales\n",
       "0      E     28.33\n",
       "1      T     26.02\n",
       "2      M     21.20\n",
       "3   E10+      8.19"
      ]
     },
     "metadata": {},
     "output_type": "display_data"
    },
    {
     "data": {
      "image/png": "[encoded data removed]",
      "text/plain": [
       "<Figure size 432x288 with 1 Axes>"
      ]
     },
     "metadata": {
      "needs_background": "light"
     },
     "output_type": "display_data"
    }
   ],
   "source": [
    "#Organizamos por clasificacion ESRB por region\n",
    "\n",
    "regions = ['na_sales', 'eu_sales', 'jp_sales']\n",
    "\n",
    "for region in regions:\n",
    "    sale_rat = games_new.groupby('rating')[region].sum().sort_values(ascending = False).reset_index()\n",
    "    \n",
    "    sale_rat_fam = sale_rat.head()\n",
    "    display(sale_rat_fam)\n",
    "    \n",
    "    sale_rat_fam.plot(x = 'rating', y = region, kind = 'bar')\n",
    "    plt.show()"
   ]
  },
  {
   "cell_type": "markdown",
   "metadata": {},
   "source": [
    "Aunque las calificaciones ESRB afecten de cierta manera a las ventas por región, también tiene que ver el hecho de que usuarios no respeten la misma para el cual afectaria otros factores como cultura entre otros. Por otra parte en Japon se observa que en su mayoria es adquirida E, la que se para Adultos y niños."
   ]
  },
  {
   "cell_type": "markdown",
   "metadata": {},
   "source": [
    "# Prueba de hipótesis"
   ]
  },
  {
   "cell_type": "markdown",
   "metadata": {},
   "source": [
    "**Se utilizará la Hipotesis sobre la igualdad de las medias de dos poblaciones, debido a que estas vendran de diferentes tipo de usuarios que eligen su plataforma.**"
   ]
  },
  {
   "cell_type": "markdown",
   "metadata": {},
   "source": [
    "A continuación se propondra una hipotesis que se rechazará o no, esta en referencia a si las calificaciones promedio de los usuarios para las plataformas Xbox One y PC son las mismas.\n",
    "\n",
    "**H0 = Las calificaciones promedio de los usuarios para las plataformas XBOX ONE y PC son iguales**\n",
    "\n",
    "**H1 = Las calificaciones promedio de los usuarios para las plataformas XBOX ONE y PC NO son iguales**"
   ]
  },
  {
   "cell_type": "code",
   "execution_count": 44,
   "metadata": {},
   "outputs": [
    {
     "data": {
      "text/plain": [
       "array(['PS3', 'X360', 'PS4', '3DS', 'DS', 'XOne', 'WiiU', 'Wii', 'PC',\n",
       "       'PSV', 'PSP'], dtype=object)"
      ]
     },
     "execution_count": 44,
     "metadata": {},
     "output_type": "execute_result"
    }
   ],
   "source": [
    "games_new['platform'].unique()"
   ]
  },
  {
   "cell_type": "code",
   "execution_count": 45,
   "metadata": {},
   "outputs": [],
   "source": [
    "#filtramos por plataforma XOne\n",
    "\n",
    "games_new_xboxone = games_new[games_new['platform']=='XOne']['user_score'].dropna()\n",
    "\n",
    "#Filtramos por plataforma PC\n",
    "\n",
    "games_new_pc = games_new[games_new['platform']=='PC']['user_score'].dropna()\n"
   ]
  },
  {
   "cell_type": "code",
   "execution_count": 46,
   "metadata": {},
   "outputs": [
    {
     "data": {
      "text/plain": [
       "165      7.9\n",
       "179      5.4\n",
       "242      6.4\n",
       "270      6.2\n",
       "373      4.1\n",
       "        ... \n",
       "16544    6.8\n",
       "16597    6.0\n",
       "16630    8.2\n",
       "16643    6.6\n",
       "16660    6.7\n",
       "Name: user_score, Length: 182, dtype: float64"
      ]
     },
     "execution_count": 46,
     "metadata": {},
     "output_type": "execute_result"
    }
   ],
   "source": [
    "games_new_xboxone"
   ]
  },
  {
   "cell_type": "code",
   "execution_count": 47,
   "metadata": {},
   "outputs": [
    {
     "name": "stdout",
     "output_type": "stream",
     "text": [
      "0.5535080500643661\n",
      "No se rechaza la hipotesis nula\n"
     ]
    }
   ],
   "source": [
    "#Hipotesis sobre la igualdad de las medias \n",
    "#de dos poblaciones\n",
    "\n",
    "alpha = 0.05 #nivel de significancia\n",
    "results = st.ttest_ind(games_new_xboxone, games_new_pc)\n",
    "valorp = results.pvalue\n",
    "print(valorp)\n",
    "\n",
    "#condicional para comparar el p con el alpha\n",
    "if valorp<alpha:\n",
    "    print('Se rechaza la hipotesis nula')\n",
    "else:\n",
    "    print('No se rechaza la hipotesis nula')"
   ]
  },
  {
   "cell_type": "markdown",
   "metadata": {},
   "source": [
    "No existe suficiente evidencia, con los datos presentes, para rechazar la hipotesis nula."
   ]
  },
  {
   "cell_type": "markdown",
   "metadata": {},
   "source": [
    "**Se utilizará la Hipotesis sobre la igualdad de las medias de dos poblaciones, debido a que estas vendran de diferentes tipo de usuarios que eligen el genero de juego.**"
   ]
  },
  {
   "cell_type": "markdown",
   "metadata": {},
   "source": [
    "A continuación se propondra una hipotesis que se rechazará o no, esta en referencia a si las calificaciones promedio de los usuarios para los géneros de Acción y Deportes son diferentes.\n",
    "\n",
    "**H0 = Las calificaciones promedio de los usuarios para los géneros de Acción y Deportes son iguales**\n",
    "\n",
    "**H1 = Las calificaciones promedio de los usuarios para los géneros de Acción y Deportes NO son iguales**"
   ]
  },
  {
   "cell_type": "code",
   "execution_count": 48,
   "metadata": {},
   "outputs": [
    {
     "data": {
      "text/plain": [
       "array(['Action', 'Shooter', 'Role-Playing', 'Platform', 'Misc',\n",
       "       'Simulation', 'Sports', 'Fighting', 'Racing', 'Strategy',\n",
       "       'Adventure', 'Puzzle'], dtype=object)"
      ]
     },
     "execution_count": 48,
     "metadata": {},
     "output_type": "execute_result"
    }
   ],
   "source": [
    "games_new['genre'].unique()"
   ]
  },
  {
   "cell_type": "code",
   "execution_count": 49,
   "metadata": {},
   "outputs": [],
   "source": [
    "#filtramos por genero Acción\n",
    "\n",
    "games_new_action = games_new[games_new['genre']=='Action']['user_score'].dropna()\n",
    "\n",
    "#Filtramos por género Deporte\n",
    "\n",
    "games_new_sports = games_new[games_new['genre']=='Sports']['user_score'].dropna()\n"
   ]
  },
  {
   "cell_type": "code",
   "execution_count": 50,
   "metadata": {},
   "outputs": [
    {
     "name": "stdout",
     "output_type": "stream",
     "text": [
      "3.7163089460934874e-26\n",
      "Se rechaza la hipotesis nula\n"
     ]
    }
   ],
   "source": [
    "#Hipotesis sobre la igualdad de las medias \n",
    "#de dos poblaciones\n",
    "\n",
    "alpha = 0.05 #nivel de significancia\n",
    "results = st.ttest_ind(games_new_action, games_new_sports)\n",
    "valorp = results.pvalue\n",
    "print(valorp)\n",
    "\n",
    "#condicional para comparar el p con el alpha\n",
    "if valorp<alpha:\n",
    "    print('Se rechaza la hipotesis nula')\n",
    "else:\n",
    "    print('No se rechaza la hipotesis nula')"
   ]
  },
  {
   "cell_type": "markdown",
   "metadata": {},
   "source": [
    "Al caer en la zona crítica se rechaza la hipotesis nula, es decir que es muy poco probable que las calificaciones promedio de los usuarios para los géneros de Acción y Deportes sean iguales, al menos con los datos que tenemos."
   ]
  },
  {
   "cell_type": "markdown",
   "metadata": {},
   "source": [
    "# Conclusiones\n",
    "\n",
    "1. Los usuarios de distintas regiones tienen diferente comportamiento en la elección de su género favorito como puede apreciarse en las ventas totales por región, usuario de norteamérica y europa tienden en un gran porcentaje a adquirir videojuegos que conlleva adrenalina como lo es el género acción, disparos y deporte; por otra parte, los japoneses tiene una preferencia a los roles de juego seguido por los generos descritos anteriormente como accion y miscelánia. La cual puede deberse a la cultura adquirida entre otros factores.\n",
    "\n",
    "2. Para un análisis posterior como una predicción se consideró evaluar los datos desde 2012. \n",
    "\n",
    "3. Las plataformas mas utilizadas varia por región, liderando en Norteamérica X360, en Europa PS4 y en Japón el 3DS. En las tres regiones se tiene que PS3 tiene una posición de aproximadamente el 20% del mercado.\n",
    "\n",
    "4. La clasificación en Norteamérica y Europa es de M (consultiva o +15), mientras que en Japón lidera E (apto adultos y niños).\n",
    "\n",
    "5. No se rechazó la hipótesis nula de que las calificaciones por usuarios en la plataforma XBOXONE y PC sean iguales, debido a que no existe suficiente evidencia con los datos presentes.\n",
    "\n",
    "6. Se rechazó la hipotesis nula de que las calificaciones promedio de los usuarios para los géneros de Acción y Deportes sean iguales, con los datos que tenemos es poco probable que lo sean."
   ]
  },
  {
   "cell_type": "code",
   "execution_count": null,
   "metadata": {},
   "outputs": [],
   "source": []
  }
 ],
 "metadata": {
  "kernelspec": {
   "display_name": "Python 3 (ipykernel)",
   "language": "python",
   "name": "python3"
  },
  "language_info": {
   "codemirror_mode": {
    "name": "ipython",
    "version": 3
   },
   "file_extension": ".py",
   "mimetype": "text/x-python",
   "name": "python",
   "nbconvert_exporter": "python",
   "pygments_lexer": "ipython3",
   "version": "3.9.5"
  },
  "toc": {
   "base_numbering": 1,
   "nav_menu": {},
   "number_sections": true,
   "sideBar": true,
   "skip_h1_title": false,
   "title_cell": "Table of Contents",
   "title_sidebar": "Contents",
   "toc_cell": false,
   "toc_position": {
    "height": "calc(100% - 180px)",
    "left": "10px",
    "top": "150px",
    "width": "272px"
   },
   "toc_section_display": true,
   "toc_window_display": true
  }
 },
 "nbformat": 4,
 "nbformat_minor": 2
}
